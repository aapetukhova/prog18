{
 "cells": [
  {
   "cell_type": "code",
   "execution_count": 5,
   "metadata": {},
   "outputs": [
    {
     "ename": "AttributeError",
     "evalue": "'IntervalTier' object has no attribute 'extend'",
     "output_type": "error",
     "traceback": [
      "\u001b[1;31m---------------------------------------------------------------------------\u001b[0m",
      "\u001b[1;31mAttributeError\u001b[0m                            Traceback (most recent call last)",
      "\u001b[1;32m<ipython-input-5-e00a60fdaa0c>\u001b[0m in \u001b[0;36m<module>\u001b[1;34m\u001b[0m\n\u001b[0;32m     22\u001b[0m     \u001b[0mprint\u001b[0m\u001b[1;33m(\u001b[0m\u001b[0mlen\u001b[0m\u001b[1;33m(\u001b[0m\u001b[0mfinal\u001b[0m\u001b[1;33m)\u001b[0m\u001b[1;33m)\u001b[0m\u001b[1;33m\u001b[0m\u001b[0m\n\u001b[0;32m     23\u001b[0m \u001b[1;33m\u001b[0m\u001b[0m\n\u001b[1;32m---> 24\u001b[1;33m \u001b[0mspeakers\u001b[0m\u001b[1;33m(\u001b[0m\u001b[1;36m0\u001b[0m\u001b[1;33m,\u001b[0m \u001b[1;34m'game_1-885s_wo_l.TextGrid'\u001b[0m\u001b[1;33m)\u001b[0m\u001b[1;33m\u001b[0m\u001b[0m\n\u001b[0m\u001b[0;32m     25\u001b[0m \u001b[1;33m\u001b[0m\u001b[0m\n",
      "\u001b[1;32m<ipython-input-5-e00a60fdaa0c>\u001b[0m in \u001b[0;36mspeakers\u001b[1;34m(s_num, filename)\u001b[0m\n\u001b[0;32m     18\u001b[0m     \u001b[0mtg\u001b[0m \u001b[1;33m=\u001b[0m \u001b[0mtgio\u001b[0m\u001b[1;33m.\u001b[0m\u001b[0mopenTextgrid\u001b[0m\u001b[1;33m(\u001b[0m\u001b[0mfilename\u001b[0m\u001b[1;33m)\u001b[0m\u001b[1;33m\u001b[0m\u001b[0m\n\u001b[0;32m     19\u001b[0m     \u001b[0mutt_r\u001b[0m \u001b[1;33m=\u001b[0m \u001b[0mtg\u001b[0m\u001b[1;33m.\u001b[0m\u001b[0mtierDict\u001b[0m\u001b[1;33m[\u001b[0m\u001b[0mtg\u001b[0m\u001b[1;33m.\u001b[0m\u001b[0mtierNameList\u001b[0m\u001b[1;33m[\u001b[0m\u001b[0ms_num\u001b[0m\u001b[1;33m]\u001b[0m\u001b[1;33m]\u001b[0m\u001b[1;33m\u001b[0m\u001b[0m\n\u001b[1;32m---> 20\u001b[1;33m     \u001b[0mutt_ykt\u001b[0m \u001b[1;33m=\u001b[0m \u001b[0mutt_r\u001b[0m\u001b[1;33m.\u001b[0m\u001b[0mextend\u001b[0m\u001b[1;33m(\u001b[0m\u001b[0mtg\u001b[0m\u001b[1;33m.\u001b[0m\u001b[0mtierDict\u001b[0m\u001b[1;33m[\u001b[0m\u001b[0mtg\u001b[0m\u001b[1;33m.\u001b[0m\u001b[0mtierNameList\u001b[0m\u001b[1;33m[\u001b[0m\u001b[0ms_num\u001b[0m \u001b[1;33m+\u001b[0m \u001b[1;36m1\u001b[0m\u001b[1;33m]\u001b[0m\u001b[1;33m]\u001b[0m\u001b[1;33m)\u001b[0m\u001b[1;33m\u001b[0m\u001b[0m\n\u001b[0m\u001b[0;32m     21\u001b[0m     \u001b[0mfinal\u001b[0m \u001b[1;33m=\u001b[0m \u001b[1;33m[\u001b[0m\u001b[0mitem\u001b[0m \u001b[1;32mfor\u001b[0m \u001b[0mitem\u001b[0m \u001b[1;32min\u001b[0m \u001b[0mutt_ykt\u001b[0m \u001b[1;32mnot\u001b[0m \u001b[1;32min\u001b[0m \u001b[0mintra_list\u001b[0m\u001b[1;33m(\u001b[0m\u001b[0mfilename\u001b[0m\u001b[1;33m)\u001b[0m\u001b[1;33m]\u001b[0m\u001b[1;33m\u001b[0m\u001b[0m\n\u001b[0;32m     22\u001b[0m     \u001b[0mprint\u001b[0m\u001b[1;33m(\u001b[0m\u001b[0mlen\u001b[0m\u001b[1;33m(\u001b[0m\u001b[0mfinal\u001b[0m\u001b[1;33m)\u001b[0m\u001b[1;33m)\u001b[0m\u001b[1;33m\u001b[0m\u001b[0m\n",
      "\u001b[1;31mAttributeError\u001b[0m: 'IntervalTier' object has no attribute 'extend'"
     ]
    }
   ],
   "source": [
    "from praatio import tgio\n",
    "from functools import wraps\n",
    "import re\n",
    "import os\n",
    "import matplotlib.pyplot as plt\n",
    "from matplotlib import style\n",
    "import seaborn as sns\n",
    "\n",
    "# filename = 'game_1-885s_wo_l.TextGrid'\n",
    "def intra_list(filename):   \n",
    "    intra_l = []\n",
    "    tg = tgio.openTextgrid(filename)\n",
    "    intra = tg.tierDict[tg.tierNameList[13]]\n",
    "    intra_l.extend([entry[0] for entry in intra.entryList])\n",
    "    return intra_l\n",
    "\n",
    "def speakers(s_num, filename):\n",
    "    tg = tgio.openTextgrid(filename)\n",
    "    utt_r = tg.tierDict[tg.tierNameList[s_num]]\n",
    "    u\n",
    "    utt_ykt = utt_r.extend(tg.tierDict[tg.tierNameList[s_num + 1]])\n",
    "    final = [item for item in utt_ykt not in intra_list(filename)]\n",
    "    print(len(final))\n",
    "    \n",
    "speakers(0, 'game_1-885s_wo_l.TextGrid')\n",
    "    \n"
   ]
  }
 ],
 "metadata": {
  "kernelspec": {
   "display_name": "Python 3",
   "language": "python",
   "name": "python3"
  },
  "language_info": {
   "codemirror_mode": {
    "name": "ipython",
    "version": 3
   },
   "file_extension": ".py",
   "mimetype": "text/x-python",
   "name": "python",
   "nbconvert_exporter": "python",
   "pygments_lexer": "ipython3",
   "version": "3.7.0"
  }
 },
 "nbformat": 4,
 "nbformat_minor": 2
}
