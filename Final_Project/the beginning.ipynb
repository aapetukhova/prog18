{
 "cells": [
  {
   "cell_type": "code",
   "execution_count": 2,
   "metadata": {},
   "outputs": [],
   "source": [
    "import re\n",
    "import gensim\n",
    "import logging\n",
    "import pandas as pd\n",
    "import random\n",
    "import os\n",
    "import nltk\n",
    "import pymorphy2\n",
    "from gensim.models import word2vec\n",
    "from tqdm import tqdm\n",
    "# from pymystem3 import Mystem\n",
    "from nltk.corpus import stopwords\n",
    "from nltk.tokenize import word_tokenize\n",
    "from nltk import sent_tokenize\n",
    "# nltk.download('punkt')\n",
    "from string import punctuation\n",
    "from random import choice\n",
    "morph = pymorphy2.MorphAnalyzer()\n",
    "# model = w2v()\n"
   ]
  },
  {
   "cell_type": "code",
   "execution_count": null,
   "metadata": {},
   "outputs": [],
   "source": [
    "Веб-сервис/телеграм-бот, который играет с пользователем в игру: \n",
    "предлагает угадать, оригинальное ли перед ним предложение какого-либо автора\n",
    "или сгенерированное компьютером с помощью word2vec. \n",
    "# В конце показывает результат пользователя и статистику правильных ответов."
   ]
  },
  {
   "cell_type": "code",
   "execution_count": 3,
   "metadata": {},
   "outputs": [],
   "source": [
    "# работа с моделью (НКРЯ, 2015)\n",
    "\n",
    "\n",
    "def w2v():\n",
    "    # скачиваем модель\n",
    "    # urllib.request.urlretrieve(\n",
    "    #    \"http://rusvectores.org/static/models/rusvectores2/\\\n",
    "    #    ruscorpora_mystem_cbow_300_2_2015.bin.gz\",\n",
    "    #    \"ruscorpora_mystem_cbow_300_2_2015.bin.gz\")\n",
    "    m = r'C:\\Users\\annap\\prog18\\homeworks\\hw7\\ruscorpora_mystem_cbow_300_2_2015.bin.gz'\n",
    "    if m.endswith('.vec.gz'):\n",
    "        model = \\\n",
    "            gensim.models.KeyedVectors.load_word2vec_format(m, binary=False)\n",
    "    elif m.endswith('.bin.gz'):\n",
    "        model = \\\n",
    "            gensim.models.KeyedVectors.load_word2vec_format(m, binary=True)\n",
    "    else:\n",
    "        model = \\\n",
    "            gensim.models.KeyedVectors.load(m)\n",
    "    return model"
   ]
  },
  {
   "cell_type": "code",
   "execution_count": 4,
   "metadata": {},
   "outputs": [],
   "source": [
    "# замена тэгов pymorphy2 на mystem\n",
    "pymorphyVSmystem = {\n",
    "    'NOUN': 'S',\n",
    "    'ADJF': 'A',\n",
    "    'ADJS': 'A',\n",
    "    'COMP': 'A',\n",
    "    'VERB': 'V',\n",
    "    'INFN': 'V',\n",
    "    'PRTF': 'V',\n",
    "    'PRTS': 'V',\n",
    "    'GRND': 'V',\n",
    "    'PRED': 'V',\n",
    "    'ADVB': 'ADV',\n",
    "    'NUMR': 'NUM',\n",
    "    'NPRO': 'SPRO',\n",
    "    'CONJ': 'CONJ',\n",
    "    'PRCL': 'PART',\n",
    "    'PREP': 'P',\n",
    "    'INTJ': 'INTJ'\n",
    "    }\n"
   ]
  },
  {
   "cell_type": "code",
   "execution_count": 5,
   "metadata": {},
   "outputs": [],
   "source": [
    "# inflections = ['case', 'number', 'person', 'tense', 'mood', 'voice']\n",
    "# словарь категорий слова, по которым будет изменяться похожее слово\n",
    "\n",
    "\n",
    "def inflections(word, pos):\n",
    "    inflection = {}\n",
    "#     существительное не изменяется по роду\n",
    "    if pos != 'NOUN':\n",
    "        inflection['gender'] = word.tag.gender\n",
    "    else:\n",
    "        pass\n",
    "    if pos == 'VERB':\n",
    "        # у глагола с тэгом 'perf' отсутствует форма настоящего времени\n",
    "        if word.tag.aspect != 'perf':\n",
    "            inflection['tense'] = word.tag.tense\n",
    "        else:\n",
    "            pass\n",
    "    inflection['case'] = word.tag.case\n",
    "    inflection['number'] = word.tag.number\n",
    "    inflection['person'] = word.tag.person\n",
    "    inflection['mood'] = word.tag.mood\n",
    "    inflection['voice'] = word.tag.voice\n",
    "    return inflection\n"
   ]
  },
  {
   "cell_type": "code",
   "execution_count": 6,
   "metadata": {},
   "outputs": [],
   "source": [
    "# список текстов из папки с текстами\n",
    "\n",
    "\n",
    "def files():\n",
    "    filelist = []\n",
    "    start_path = r'.\\texts'\n",
    "    for filename in os.listdir(start_path):\n",
    "        filepath = os.path.join(start_path, filename)\n",
    "        filelist.append(filepath)\n",
    "    return filelist\n"
   ]
  },
  {
   "cell_type": "code",
   "execution_count": 7,
   "metadata": {},
   "outputs": [],
   "source": [
    "# случайно выбираем текст, из которого берем фразу\n",
    "\n",
    "\n",
    "def name():\n",
    "    name = random.choice(files())\n",
    "    return name\n"
   ]
  },
  {
   "cell_type": "code",
   "execution_count": 8,
   "metadata": {},
   "outputs": [],
   "source": [
    "# эта функция создает словарь (d)\n",
    "# автор (Мураками или Компьютер): [предложение, название произведения],\n",
    "# предварительно выбрав случайное предложение из текста\n",
    "# (для интереса длиной > 50 знаков)\n",
    "\n",
    "\n",
    "def sentSplit():\n",
    "    d = {}\n",
    "    all_sent_list = []\n",
    "    sent_book = []\n",
    "    filename = name()\n",
    "    with open(filename, 'r', encoding='utf-8') as f:\n",
    "        text = f.readlines()\n",
    "    for line in text:\n",
    "        title = re.search(r'([а-яА-Я]|\\s)+?\\n', line)\n",
    "        author = re.search('Харуки Мураками', line)\n",
    "        date = re.search('\\d\\n', line)\n",
    "        if not author and not date and not title:\n",
    "            all_sent_list.extend(sent_tokenize(line))\n",
    "    sentence = random.choice(all_sent_list)\n",
    "    while len(sentence) < 50:\n",
    "        sentence = random.choice(all_sent_list)\n",
    "    sent_book.append(sentence)\n",
    "    r1 = re.search(r'texts\\\\(.+?)\\.txt', filename)\n",
    "    if r1:\n",
    "        sent_book.append(r1.group(1))\n",
    "    d['Мураками'] = sent_book\n",
    "    return d\n"
   ]
  },
  {
   "cell_type": "code",
   "execution_count": 9,
   "metadata": {},
   "outputs": [],
   "source": [
    "# эта функция разбивает исходную строку на символы, чтобы потом можно было\n",
    "# вернуть исходную пунктуацию\n",
    "\n",
    "\n",
    "def rawString(phrase):\n",
    "    symbols = []\n",
    "    wordlist = []\n",
    "    r2 = re.findall('(\\w+)(\\s)?([^\\w\\s])?(\\s)?', phrase)\n",
    "    for item in r2:\n",
    "        symbols.append(item)\n",
    "    for w in symbols:\n",
    "        for i in w:\n",
    "            if i != '':\n",
    "                wordlist.append(i)\n",
    "    return(wordlist)\n"
   ]
  },
  {
   "cell_type": "code",
   "execution_count": 10,
   "metadata": {},
   "outputs": [],
   "source": [
    "# эта функция оставляет из предыдущего списка символов только слова\n",
    "\n",
    "\n",
    "def onlyWords(wordlist):\n",
    "    words = []\n",
    "    for w in wordlist:\n",
    "        r3 = re.search(r'[А-Яа-я]+', w)\n",
    "        if r3:\n",
    "            if w not in punctuation:\n",
    "                words.append(w)\n",
    "    return words\n"
   ]
  },
  {
   "cell_type": "code",
   "execution_count": 11,
   "metadata": {},
   "outputs": [
    {
     "name": "stderr",
     "output_type": "stream",
     "text": [
      "c:\\users\\annap\\miniconda3\\lib\\site-packages\\smart_open\\smart_open_lib.py:398: UserWarning: This function is deprecated, use smart_open.open instead. See the migration notes for details: https://github.com/RaRe-Technologies/smart_open/blob/master/README.rst#migrating-to-the-new-open-function\n",
      "  'See the migration notes for details: %s' % _MIGRATION_NOTES_URL\n"
     ]
    }
   ],
   "source": [
    "model = w2v()"
   ]
  },
  {
   "cell_type": "code",
   "execution_count": 33,
   "metadata": {},
   "outputs": [],
   "source": [
    "# эта функция создает словарь (origin_model)\n",
    "# оригинальное слово: слово из модели\n",
    "\n",
    "\n",
    "def wMDict(words, model):\n",
    "    origin_model = {}\n",
    "    word_info = {}\n",
    "    normal_pos_infl = {}\n",
    "    sw = stopwords.words('russian')\n",
    "    for item in words:\n",
    "        if item.lower() not in sw:\n",
    "            pos_infl = {}\n",
    "            word = morph.parse(item)[0]\n",
    "            normal = word.normal_form\n",
    "            pos = word.tag.POS\n",
    "            pos_infl['pos'] = pos\n",
    "            pos_infl['infl'] = inflections(word, pos)\n",
    "            normal_pos_infl[normal] = pos_infl\n",
    "            word_info.update(normal_pos_infl)\n",
    "            if pymorphyVSmystem[normal_pos_infl[normal]['pos']]:\n",
    "                query = normal + '_' +\\\n",
    "                pymorphyVSmystem[normal_pos_infl[normal]['pos']]\n",
    "            else:\n",
    "                pass\n",
    "            if query in model:\n",
    "                top5_similar = model.most_similar(positive=[query], topn=5)\n",
    "                for word in top5_similar:\n",
    "                    r4 = re.search('([а-я].+?)_(.+)', word[0])\n",
    "                    if r4:\n",
    "                        if r4.group(2) ==\\\n",
    "                              pymorphyVSmystem[normal_pos_infl[normal]['pos']]:\n",
    "                            parsed = morph.parse(r4.group(1))[0]\n",
    "                            inflection = word_info[normal]['infl'].values()\n",
    "                            inflected = parsed.inflect({item for\n",
    "                                                        item in inflection\n",
    "                                                        if item is not None})\n",
    "                            if inflected:\n",
    "                                origin_model[item] = inflected.word\n",
    "                                break\n",
    "                            else:\n",
    "                                origin_model[item] = item\n",
    "                    else:\n",
    "                        origin_model[item] = item\n",
    "            else:\n",
    "                origin_model[item] = item\n",
    "    return origin_model\n"
   ]
  },
  {
   "cell_type": "code",
   "execution_count": 41,
   "metadata": {},
   "outputs": [],
   "source": [
    "# меняем оригинальные слова на слова из модели, получаем строку,\n",
    "# идентичную оригинальной, но со словами из модели\n",
    "\n",
    "\n",
    "def wordChange(raw, origin_model):\n",
    "    final = []\n",
    "    for i in raw:\n",
    "        try:\n",
    "            final.append(origin_model[i])\n",
    "        except:\n",
    "            final.append(i)\n",
    "    final[0] = final[0].capitalize()\n",
    "    s = ''.join(final)\n",
    "    return s\n"
   ]
  },
  {
   "cell_type": "code",
   "execution_count": 42,
   "metadata": {},
   "outputs": [
    {
     "name": "stdout",
     "output_type": "stream",
     "text": [
      "Порядок… Метки, показывавшие дорогу домой, тянулись за мной неровной чередой, как буйки на поверхности моря.\n",
      "Распорядок… отметины, продемонстрировавшие шоссе обратно, протягивались за мной ровной вереницей, как буйки на коре океана.\n"
     ]
    },
    {
     "data": {
      "text/plain": [
       "{'Компьютер': ['Распорядок… отметины, продемонстрировавшие шоссе обратно, протягивались за мной ровной вереницей, как буйки на коре океана.',\n",
       "  'Кафка на пляже']}"
      ]
     },
     "execution_count": 42,
     "metadata": {},
     "output_type": "execute_result"
    }
   ],
   "source": [
    "# эта функция создает словарь автор (компьютер): фраза, произведение\n",
    "def comp():\n",
    "    y = []\n",
    "    computer = sentSplit()\n",
    "    phrase = computer['Мураками'][0]\n",
    "#     print(phrase)\n",
    "    raw = rawString(phrase)\n",
    "    ow = onlyWords(raw)\n",
    "    origin_model = wMDict(ow, model)\n",
    "    changed = wordChange(raw, origin_model)\n",
    "#     print(changed)\n",
    "    y.append(changed)\n",
    "    y.append(computer['Мураками'][1])\n",
    "    computer['Компьютер'] = y\n",
    "    del computer['Мураками']\n",
    "    return computer\n",
    "# comp()"
   ]
  },
  {
   "cell_type": "code",
   "execution_count": 37,
   "metadata": {},
   "outputs": [],
   "source": [
    "# список словарей автор: фраза, произведение,\n",
    "# который будет использоваться в игре\n",
    "\n",
    "\n",
    "def sentences():\n",
    "    sent_list = []\n",
    "    for i in range(0, 10):\n",
    "        z = choice([sentSplit, comp])()\n",
    "        sent_list.append(z)\n",
    "    return sent_list\n"
   ]
  },
  {
   "cell_type": "code",
   "execution_count": null,
   "metadata": {},
   "outputs": [],
   "source": [
    "# статистика!\n",
    "# ваш ответ:\n",
    "\n",
    "# правильный ответ:"
   ]
  },
  {
   "cell_type": "code",
   "execution_count": 38,
   "metadata": {},
   "outputs": [
    {
     "name": "stdout",
     "output_type": "stream",
     "text": [
      "[{'Мураками': ['В небе плавали белые облака, носились птицы и стрекозы.', 'Таиланд']}, {'Компьютер': ['На парковке стоял лишь блестящий синий «ниссан-блюберд»', 'Повторное нападение на булочную']}, {'Компьютер': ['Умная, сообразительная, могла бы отлично учиться\\xa0— но принципиально держалась так, чтоб ее способностей никто не замечал.', '1Q84. Книга 3']}, {'Мураками': ['Ее шея пахла теперь просто как шея семнадцатилетней девушки.', 'Страна Чудес без тормозов и Конец Света']}, {'Мураками': ['—\\xa0В машине вы обмолвились о медведе,\\xa0— сказал Комура.', 'В Кусиро поселился НЛО']}, {'Компьютер': ['Нехорошо — чуть что обижать простодушных пиплов Северного Канто[4]сказал Кэйсукэ.', 'Пейзаж с утюгом']}, {'Компьютер': ['Белая береза”1910-1923) литературная группа, с деятельностью которой связаны имена писателей-неогуманистов Такэо Арисима, Наоя Сига, Санэацу Мусякодзи >', 'Мой любимый sputnik']}, {'Мураками': ['—\\xa0Время и опыт,\\xa0— повторила Сумирэ и посмотрела в небо.', 'Мой любимый sputnik']}, {'Мураками': ['Пройдя немного, она взяла мою руку в свою —\\xa0в ту, на которой было пять пальцев.', 'Слушай песню ветра']}, {'Компьютер': ['Ваша задача\\xa0— выяснить, что же случилось на самом деле,\\xa0продолжал Усикава.', '1Q84. Книга 3']}]\n"
     ]
    }
   ],
   "source": [
    "sent_list = sentences()\n",
    "\n",
    "print(sent_list)"
   ]
  },
  {
   "cell_type": "code",
   "execution_count": 27,
   "metadata": {},
   "outputs": [
    {
     "name": "stdout",
     "output_type": "stream",
     "text": [
      " * Serving Flask app \"__main__\" (lazy loading)\n",
      " * Environment: production\n",
      "   WARNING: This is a development server. Do not use it in a production deployment.\n",
      "   Use a production WSGI server instead.\n",
      " * Debug mode: off\n"
     ]
    },
    {
     "name": "stderr",
     "output_type": "stream",
     "text": [
      " * Running on http://127.0.0.1:5000/ (Press CTRL+C to quit)\n",
      "127.0.0.1 - - [17/Jun/2019 06:31:47] \"GET / HTTP/1.1\" 200 -\n",
      "127.0.0.1 - - [17/Jun/2019 06:32:07] \"GET /results?В+палате+витал+сладковатый+запах+тушеной+рыбы%2C+оставшейся+нетронутой+после+обеда.=Компьютер&Сначала+поворачиваешь+его+так%2C+чтобы+он+глядел+на+тебя.=Мураками&+++Вернувшись+в+контору%2C+я+увидел%2C+что+дверь+открыта+настежь%2C+а+внутри+никого+нет.=Мураками&Проникавшая+в+окно+морось+вымочила+все+в+машине+—+сиденья%2C+лобовое+стекло%2C+ветровку%2C+сигареты+в+кармане...+Резко+взвыли+сирены+сухогрузов+на+рейде+—+так+голосят+отбившиеся+от+стада+телята.=Мураками&Аккуратно+расставлял+все+на+столе+и+неспешно+ел%2C+заодно+просматривая+газету.=Мураками&Давно+мне+не+приходилось+видеть+такого+крепкого+сна.=Мураками&Или+не+можете+успокоиться%2C+пока+кто-то+есть+рядом%3F=Мураками&Когда+я+вру%2C+с+моим+голосом+всегда+происходит+что-то+странное.=Мураками&В+зеркале+он+видит+лишь+себя+самого+–+того%2C+кто+он+в+реальности.=Мураками&Более+того%2C+именно+из-за+его+характера+советам+его+следовали+спортсмены+и+доверяли+тренеры+%28пусть+их+набиралось+не+так+уж+и+много%29.=Мураками HTTP/1.1\" 200 -\n",
      "127.0.0.1 - - [17/Jun/2019 06:32:19] \"GET / HTTP/1.1\" 200 -\n",
      "127.0.0.1 - - [17/Jun/2019 06:32:31] \"GET /results?А+вот+если+бы+у+девушки%2C+которая+вам+понравилась%2C+было+шесть+пальцев%2C+что+бы+вы+делали%3F=Компьютер&Словно+сыплют+мелкие+клочки+газеты+на+толстый+ковер.=Мураками&При+этом+брат+с+сестрой+вам+нисколько+не+благодарны+за+то%2C+что+вы+для+них+сделали.=Мураками&Там%2C+где+я+лежал%2C+образовалась+лужица+зимнего+солнечного+света.=Мураками&Вы%2C+наверное%2C+знаете%2C+что+американский%2C+а+значит%2C+и+мировой+пинбольный+бизнес+контролируют+четыре+компании.=Компьютер&А+кому+же+еще+приходит+в+голову+разгуливать+по+путям%3F=Компьютер&Оказалось+—+в+большой+ресторан+«рамэн»%5B1%5D+у+дороги.=Мураками&По+этой+причине+слон+месяца+на+три+или+четыре+остался+в+одиночестве+в+закрытом+зоопарке%2C+похожем+на+руины%2C+после+того+как+все+его+собратья+оттуда+исчезли.=Компьютер&Он+едва+не+опоздал%2C+когда+мужчина+усаживался+в+такси+на+стоянке.=Мураками&– Сотруднику+я+позвоню+домой...+Думаю%2C+он+будет+здесь+в+три%2C –+сказал+мой+напарник.=Мураками HTTP/1.1\" 200 -\n"
     ]
    }
   ],
   "source": [
    "import flask\n",
    "from flask import Flask\n",
    "from flask import render_template, request, url_for, redirect\n",
    "\n",
    "app = Flask(__name__)\n",
    "\n",
    "@app.route('/')\n",
    "def index():\n",
    "    sent_list = sentences()\n",
    "#     setattr(g, 'sent_list', None)\n",
    "#     sent = getattr(flask.g, 'sent_list', None)\n",
    "    flask.g = sent_list\n",
    "    return render_template('index.html', sent_list=sent_list)\n",
    "\n",
    "@app.route('/results')\n",
    "def results():\n",
    "    answrs = []\n",
    "    correct = 0\n",
    "#     flask.g.sent = \n",
    "#     sent_list = getattr(g, 'sent_list', None)\n",
    "    sent_list = flask.g\n",
    "    if request.args:\n",
    "        for item in sent_list:\n",
    "            for key, value in item.items():\n",
    "                a = {}\n",
    "                answer = request.args[value[0]]\n",
    "                if answer == key:\n",
    "                    correct += 1\n",
    "                a[answer] = value[0]\n",
    "                answrs.append(a)\n",
    "        return render_template('results.html', correct=correct, rights=sent_list, users=answrs)\n",
    "# + пройти заново\n",
    "#     else:\n",
    "#         return render_template('onemoretime.html')\n",
    "#     return render_template('index.html', sent_list=sent_list)\n",
    "    return redirect(url_for('index'))\n",
    "\n",
    "\n",
    "if __name__ == '__main__':\n",
    "    app.run(debug=False)\n",
    "\n",
    "#     add numbered list\n",
    "# подумать, как оставить один список в 2 функциях и при этом делать новые\n",
    "# + дизайн"
   ]
  },
  {
   "cell_type": "code",
   "execution_count": 150,
   "metadata": {},
   "outputs": [],
   "source": [
    "def results():\n",
    "    correct = 0\n",
    "    if request.args:\n",
    "        for item in listy:\n",
    "#             answer = request.form[]\n",
    "            for key, value in item.items():\n",
    "                answer = request.args[value[0]]\n",
    "#                 print(answer)\n",
    "                if answer == key:\n",
    "                    correct += 1\n",
    "        return render_template('results.html', correct=correct)\n",
    "    return render_template('index.html', listy=listy)"
   ]
  },
  {
   "cell_type": "code",
   "execution_count": null,
   "metadata": {},
   "outputs": [],
   "source": [
    "@app.route('/results')\n",
    "def results():\n",
    "    correct = 0\n",
    "    if request.args:\n",
    "        for item in listy:\n",
    "#             answer = request.form[]\n",
    "            for key in item.items():\n",
    "                answer = request.form[key]\n",
    "                if key == answer:\n",
    "                    correct += 1\n",
    "    return render_template('results.html', correct=correct)\n",
    "\n",
    "\n",
    "if __name__ == '__main__':\n",
    "    app.run(debug=True)        \n",
    "#     if request.args['']\n",
    "    \n",
    "#     или можно на все плюнуть и просто давать правильные ответы"
   ]
  },
  {
   "cell_type": "code",
   "execution_count": null,
   "metadata": {},
   "outputs": [],
   "source": [
    "В конце показывает результат пользователя и статистику правильных ответов.!!!!!!\n",
    "+ можно добавить комментарий"
   ]
  },
  {
   "cell_type": "code",
   "execution_count": 88,
   "metadata": {},
   "outputs": [
    {
     "name": "stdout",
     "output_type": "stream",
     "text": [
      "Parse(word='написать', tag=OpencorporaTag('INFN,perf,tran'), normal_form='написать', score=1.0, methods_stack=((<DictionaryAnalyzer>, 'написать', 916, 0),))\n",
      "None\n"
     ]
    }
   ],
   "source": [
    "d = morph.parse('написать')[0]\n",
    "print(d)\n",
    "e = [None, None, 'plur', '2per', 'pres', 'indc', None]\n",
    "f = d.inflect({'plur', '2per', 'indc', 'pres'})\n",
    "# f = d.inflect({item for item in e if item is not None})\n",
    "print(f)\n",
    "# if perf - perf, if impf - pres"
   ]
  },
  {
   "cell_type": "code",
   "execution_count": null,
   "metadata": {},
   "outputs": [],
   "source": [
    "для фласка:\n",
    "    читаем по одному "
   ]
  },
  {
   "cell_type": "code",
   "execution_count": null,
   "metadata": {},
   "outputs": [],
   "source": [
    "заметочник:\n",
    "    служебные слова оставляем\n",
    "    числительные можем не трогать\n",
    "    скопировать вход на выход - знаки препинания, заглавные буквы и тд - майстем(?)\n",
    "    лемматизируем и сохраняем тэги слова\n",
    "    чистые слова в модель - ближайшее слово\n",
    "    это слово склоняем по характеристикам\n",
    "    всталяем в \"скелет\"\n",
    "\n",
    "                                                                                 \n",
    "    "
   ]
  }
 ],
 "metadata": {
  "kernelspec": {
   "display_name": "Python 3",
   "language": "python",
   "name": "python3"
  },
  "language_info": {
   "codemirror_mode": {
    "name": "ipython",
    "version": 3
   },
   "file_extension": ".py",
   "mimetype": "text/x-python",
   "name": "python",
   "nbconvert_exporter": "python",
   "pygments_lexer": "ipython3",
   "version": "3.7.0"
  }
 },
 "nbformat": 4,
 "nbformat_minor": 2
}
