import requests

result = requests.get('https:\\habr.com')
html = result.text
print(html)

soup = BeautifulSoup(html, 'htmal.parser')
for link in soup.findall('article', {'class': 'post'}):
  print(link.find('a', {'class': 'post_title_link'})).get.text())
  
for link in soup.findall('a', {'class': 'post_title_link'}):
  print(link.find('a')).get.text())
  
подборка материалов региональной газеты:
"режим чтения"
html-файл:
заголовок и текст + картинка
1. по ссылке сохранить страницу
post.html+img1.jpg
все картинки и файл сохранить рядом с ним - пишем в файл?
2. сделать краулер
из каждой статьи в отдельную папку сокращенный вариант страницы
_______________________________________________________________

'http://www.vecherniy.com/'

from bs4 import BeautifulSoup
import requests
result = requests.get('http://www.vecherniy.com/')
html = result.text
#print(html)
soup = BeautifulSoup(html, 'htal.parser')


статьи:
статья из левой колонки обсуждаемого:
ссылка:
<a class="d_b f14 fbd c_b l_h1" href="/wall?id=1015">ПАВЕЛ ГРУДИНИН «На месте Путина я бы застрелился»</a>
где находится эта ссылка:
<div class="comm_date_god name_uw" style="margin-bottom: 10px;">…</div>
заголовок:
<div class="f26 crd ovh myr_HelveticaNeue" style="line-height: 40px; font-size: 43px;">ПАВЕЛ ГРУДИНИН «На месте Путина я бы застрелился»</div>
картинка под заголовком:
<img style="width:100%" class="centertrue krugfalse crp" src="/pub/pictures/normal/295_20180831033727_80152.jpg" alt>
статья:
<div class="t_jus">

ссылка на статью из главной новости:
<div class="mainnews_slider img_text" style="margin-left: 11px; margin-right: 19px;">…</div>
<a class="d_b poa c_w p_10 crp" alt style="max-width: 80%; right: 0px; bottom:25px;" href="/wall?id=1046">…</a>
заголовок:
<div class="f26 crd ovh myr_HelveticaNeue" style="line-height: 40px; font-size: 43px;">Выживший</div>
картинка:
<div id="material_text" class="f17 crd m_n1 brw myr_Cambria">
<img style="width:100%" class="centertrue krugfalse crp" src="/pub/pictures/normal/295_20181005062259_14876.jpg" alt>
статья:
<div class="t_jus">

прочие новости:
<div class="pnews wh1" style="padding: 10px 0 0;">

