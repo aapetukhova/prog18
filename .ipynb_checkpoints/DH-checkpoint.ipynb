{
 "cells": [
  {
   "cell_type": "code",
   "execution_count": 1,
   "metadata": {},
   "outputs": [
    {
     "name": "stderr",
     "output_type": "stream",
     "text": [
      "c:\\users\\annap\\miniconda3\\lib\\site-packages\\ipykernel_launcher.py:5: DeprecationWarning: Using Nominatim with the default \"geopy/1.18.1\" `user_agent` is strongly discouraged, as it violates Nominatim's ToS https://operations.osmfoundation.org/policies/nominatim/ and may possibly cause 403 and 429 HTTP errors. Please specify a custom `user_agent` with `Nominatim(user_agent=\"my-application\")` or by overriding the default `user_agent`: `geopy.geocoders.options.default_user_agent = \"my-application\"`. In geopy 2.0 this will become an exception.\n",
      "  \"\"\"\n"
     ]
    }
   ],
   "source": [
    "# функция находит географические координаты места, указанного в row[1]\n",
    "# названия в файле заключены в кавычки\n",
    "import csv\n",
    "from geopy.geocoders import Nominatim\n",
    "import time\n",
    "import re\n",
    "\n",
    "\n",
    "time.sleep(1)\n",
    "geolocator = Nominatim()\n",
    "with open('NLS.csv', encoding='utf-8') as inp:\n",
    "    with open('NLO.csv', 'a', encoding='utf-8') as otp:\n",
    "        filereader = csv.reader(inp, delimiter=',')\n",
    "        next(filereader)\n",
    "        for row in filereader:     \n",
    "            try:\n",
    "                location = geolocator.geocode(row[1])\n",
    "                row.append(str(location.longitude))\n",
    "                row.append(str(location.latitude))\n",
    "                print(','.join(row), file=otp)\n",
    "            except:\n",
    "                pass\n"
   ]
  },
  {
   "cell_type": "code",
   "execution_count": 2,
   "metadata": {},
   "outputs": [],
   "source": [
    "# функция создает csv-таблицу для geojson, в верхней строке таблицы - данные маркеров\n",
    "# таблица объектов, о которых докладывают\n",
    "\n",
    "\n",
    "with open('NLO.csv', encoding='utf-8') as inp:\n",
    "    with open('OLS.csv', 'a', encoding='utf-8') as otp:\n",
    "        filereader = csv.reader(inp, delimiter=',')\n",
    "        next(filereader)\n",
    "        for row in filereader:     \n",
    "            if row[2] == 'light':\n",
    "                row.append('#ebe30f')\n",
    "                row.append('medium')\n",
    "                row.append('star')\n",
    "            elif row[2] == 'flying object':\n",
    "                row.append('#23ed0c')\n",
    "                row.append('medium')\n",
    "                row.append('rocket')\n",
    "            elif row[2] == 'ball':\n",
    "                row.append('#952dcd')\n",
    "                row.append('medium')\n",
    "                row.append('circle')\n",
    "            else:\n",
    "                row.append('#2c72ce')\n",
    "                row.append('medium')\n",
    "                row.append('cross')                \n",
    "            print(','.join(row), file=otp)\n"
   ]
  },
  {
   "cell_type": "code",
   "execution_count": 4,
   "metadata": {},
   "outputs": [],
   "source": [
    "# функция создает csv-таблицу для geojson, в верхней строке таблицы - данные маркеров\n",
    "# таблица объектов, которые на самом деле наблюдали очевидцы\n",
    "\n",
    "with open('NLO.csv', encoding='utf-8') as inp:\n",
    "    with open('OLO.csv', 'a', encoding='utf-8') as otp:\n",
    "        filereader = csv.reader(inp, delimiter=',')\n",
    "        next(filereader)\n",
    "        for row in filereader:  \n",
    "            r = re.search('Astro+?', row[3])\n",
    "            if row[3] == 'aircraft':\n",
    "                row.append('#319f1d')\n",
    "                row.append('medium')\n",
    "                row.append('airport')\n",
    "            elif row[3] == 'satellite':\n",
    "                row.append('#4089ba')\n",
    "                row.append('medium')\n",
    "                row.append('circle-stroked')\n",
    "            elif row[3] == 'birds':\n",
    "                row.append('#f59905')\n",
    "                row.append('medium')\n",
    "                row.append('zoo')\n",
    "            elif row[3] == 'insufficient data':\n",
    "                row.append('#f90105')\n",
    "                row.append('medium')\n",
    "                row.append('triangle-stroked')\n",
    "            elif r:\n",
    "                row.append('#122c87')\n",
    "                row.append('medium')\n",
    "                row.append('lighthouse')\n",
    "            else:\n",
    "                row.append('#c713e7')\n",
    "                row.append('medium')\n",
    "                row.append('cross')                \n",
    "            print(','.join(row), file=otp)\n",
    "            "
   ]
  }
 ],
 "metadata": {
  "kernelspec": {
   "display_name": "Python 3",
   "language": "python",
   "name": "python3"
  },
  "language_info": {
   "codemirror_mode": {
    "name": "ipython",
    "version": 3
   },
   "file_extension": ".py",
   "mimetype": "text/x-python",
   "name": "python",
   "nbconvert_exporter": "python",
   "pygments_lexer": "ipython3",
   "version": "3.7.0"
  }
 },
 "nbformat": 4,
 "nbformat_minor": 2
}
