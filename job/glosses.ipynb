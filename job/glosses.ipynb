{
 "cells": [
  {
   "cell_type": "code",
   "execution_count": 4,
   "metadata": {},
   "outputs": [
    {
     "name": "stdout",
     "output_type": "stream",
     "text": [
      "['(', '1', ')', '\\t', '[', 'x', 'e', '\\t', 'ʜ', 'ü', 'r', '.', 'i', '-', 'n', ']', '\\t', 'i', 's', 't', 'ː', 'u', 'r', 'i', '\\t', 'm', 'i', '-', 'š', 't', 'ː', 'i', '-', 'f', '\\t', 'e', '.', '\\n', '(', '2', ')', '\\t', 'x', 'e', '\\t', 'ʜ', 'ü', 'r', '\\t', 'a', 'd', '-', 'i', '-', 'n', 'a', 'j', 'e', '-', 'f', '-', 'e', '\\t', 'x', 'i', 'b', 'u', '\\t', 'f', 'i', '.', 't', 'ː', 'i', '-', 'a', 's', ',', '\\t', 'x', 'i', 'b', 'u', '\\t', 't', 'u', 'χ', 'u', 'm', '.', 'd', 'i', '-', 'k', '-', 'a', 's', '\\n', '(', '3', ')', '\\t', 's', 'a', '-', 'd', '-', 'p', 'u', 'n', 'd', 'e', '\\t', 't', 'u', 'χ', 'u', 'm', '\\t', 'e', '\\t', 'ʁ', 'u', 'l', 'l', 'i', 'w', 'a', 'r', '.', '\\n']\n"
     ]
    }
   ],
   "source": [
    "import re\n",
    "\n",
    "def text(filename):\n",
    "    words = []\n",
    "    gls = []\n",
    "    with open (filename, 'r', encoding='utf-8') as f:\n",
    "        lines = f.readlines()\n",
    "#         print(lines)\n",
    "        n = len(lines)\n",
    "        for i in range (0, n):\n",
    "            tr = re.search('\\([\\d]\\)', lines[i])\n",
    "            if tr:\n",
    "                for word in (lines[i]):\n",
    "                    words.append(word)\n",
    "#                 print(lines[i])\n",
    "#                 line = tr.group(1)\n",
    "#                 print(line)\n",
    "#                 for word in lines[i]:\n",
    "#                     words.append(word)\n",
    "#                 for gl in lines[i+1]:\n",
    "#                     gls.append(gl)\n",
    "    print(words)\n",
    "#     print(gls)\n",
    "\n",
    "text('gloss.csv')\n",
    "                \n",
    "import csv        "
   ]
  },
  {
   "cell_type": "code",
   "execution_count": null,
   "metadata": {},
   "outputs": [],
   "source": []
  },
  {
   "cell_type": "code",
   "execution_count": 51,
   "metadata": {},
   "outputs": [
    {
     "name": "stdout",
     "output_type": "stream",
     "text": [
      "['xe', 'ʜür.i-n', 'istːuri', 'mi-štːi-f', 'e', 'xe', 'ʜür', 'ad-i-naje-f-e', 'xibu', 'fi.tːi-as', 'xibu', 'tuχum.di-k-as', 'ibarat', 'x-u-naje-f-e', 'sa-d-punde', 'tuχum', 'e', 'ʁulliwar']\n",
      "['1. Основание села и сельские тухумы', '      История нашего села такова.', '      Наше село произошло из трех этих самых, образовалось из трех тухумов.']\n"
     ]
    }
   ],
   "source": [
    "import csv\n",
    "# from itertools import izip\n",
    "import re\n",
    "\n",
    "\n",
    "words = []\n",
    "glosses = []\n",
    "with open('gloss.csv', encoding='utf-8') as csvfile:\n",
    "    filereader = csv.reader(csvfile, delimiter='\\t', quotechar='|')\n",
    "    for row in filereader:\n",
    "        for item in row:\n",
    "            tr = re.search('([a-z]+?)', item)\n",
    "            if tr:\n",
    "                clean_item = item.strip(',.[]')\n",
    "                words.append(clean_item)\n",
    "            gloss = re.search('(^\\d|^\\s)([а-я]+)?([A-Z]+)?', item)\n",
    "            if gloss:\n",
    "                glosses.append(item)\n",
    "# with open('final.csv', 'w', encoding='utf-8') as f:\n",
    "#     writer = csv.writer(f)\n",
    "#     writer.writerows(zip(words, glosses))\n",
    "        \n",
    "print(words)\n",
    "print(glosses)\n"
   ]
  },
  {
   "cell_type": "code",
   "execution_count": null,
   "metadata": {},
   "outputs": [],
   "source": []
  }
 ],
 "metadata": {
  "kernelspec": {
   "display_name": "Python 3",
   "language": "python",
   "name": "python3"
  },
  "language_info": {
   "codemirror_mode": {
    "name": "ipython",
    "version": 3
   },
   "file_extension": ".py",
   "mimetype": "text/x-python",
   "name": "python",
   "nbconvert_exporter": "python",
   "pygments_lexer": "ipython3",
   "version": "3.7.0"
  }
 },
 "nbformat": 4,
 "nbformat_minor": 2
}
