{
 "cells": [
  {
   "cell_type": "code",
   "execution_count": 4,
   "metadata": {},
   "outputs": [
    {
     "name": "stdout",
     "output_type": "stream",
     "text": [
      "['(', '1', ')', '\\t', '[', 'x', 'e', '\\t', 'ʜ', 'ü', 'r', '.', 'i', '-', 'n', ']', '\\t', 'i', 's', 't', 'ː', 'u', 'r', 'i', '\\t', 'm', 'i', '-', 'š', 't', 'ː', 'i', '-', 'f', '\\t', 'e', '.', '\\n', '(', '2', ')', '\\t', 'x', 'e', '\\t', 'ʜ', 'ü', 'r', '\\t', 'a', 'd', '-', 'i', '-', 'n', 'a', 'j', 'e', '-', 'f', '-', 'e', '\\t', 'x', 'i', 'b', 'u', '\\t', 'f', 'i', '.', 't', 'ː', 'i', '-', 'a', 's', ',', '\\t', 'x', 'i', 'b', 'u', '\\t', 't', 'u', 'χ', 'u', 'm', '.', 'd', 'i', '-', 'k', '-', 'a', 's', '\\n', '(', '3', ')', '\\t', 's', 'a', '-', 'd', '-', 'p', 'u', 'n', 'd', 'e', '\\t', 't', 'u', 'χ', 'u', 'm', '\\t', 'e', '\\t', 'ʁ', 'u', 'l', 'l', 'i', 'w', 'a', 'r', '.', '\\n']\n"
     ]
    }
   ],
   "source": [
    "import re\n",
    "\n",
    "def text(filename):\n",
    "    words = []\n",
    "    gls = []\n",
    "    with open (filename, 'r', encoding='utf-8') as f:\n",
    "        lines = f.readlines()\n",
    "#         print(lines)\n",
    "        n = len(lines)\n",
    "        for i in range (0, n):\n",
    "            tr = re.search('\\([\\d]\\)', lines[i])\n",
    "            if tr:\n",
    "                for word in (lines[i]):\n",
    "                    words.append(word)\n",
    "#                 print(lines[i])\n",
    "#                 line = tr.group(1)\n",
    "#                 print(line)\n",
    "#                 for word in lines[i]:\n",
    "#                     words.append(word)\n",
    "#                 for gl in lines[i+1]:\n",
    "#                     gls.append(gl)\n",
    "    print(words)\n",
    "#     print(gls)\n",
    "\n",
    "text('Huppuq_texts_2007_edited+vi+ap.csv')\n",
    "                \n",
    "import csv        "
   ]
  },
  {
   "cell_type": "code",
   "execution_count": null,
   "metadata": {},
   "outputs": [],
   "source": []
  },
  {
   "cell_type": "code",
   "execution_count": 80,
   "metadata": {},
   "outputs": [],
   "source": [
    "import csv\n",
    "import re\n",
    "\n",
    "words = [] #list of words\n",
    "glosses = [] #list of glosses\n",
    "with open('Huppuq_texts_2007_edited+vi+ap.csv', encoding='utf-8') as csvfile: #reading the initial file\n",
    "    filereader = csv.reader(csvfile, delimiter='\\t', quotechar='|') #divide words by a tab\n",
    "    for row in filereader:\n",
    "        for item in row: #for every item=word\n",
    "            tr = re.search('[a-z]+?', item)#if it's written with latin letters it's our case\n",
    "            if tr:\n",
    "                clean_item = item.strip(',.[]{}\"\"?! ') #cleaning the item from punctuation and spaces\n",
    "#                 print(clean_item)\n",
    "                words.append(clean_item) #list of words\n",
    "            gloss = re.search('^(\\S)?([A-Z]+|[а-яА-Я]+|\\[\\d|\\d-|\\?)', item) #search for the glosses - they are kept at the same 'number' as words, so we create the pair word-gloss only by the order of their appearance\n",
    "            if gloss:\n",
    "                glosses.append(item.strip())\n",
    "with open('final.csv', 'w', encoding='utf-8') as f: #opening the final result file\n",
    "    writer = csv.writer(f)\n",
    "    writer.writerows(zip(words, glosses)) #we create the pair word-gloss usinf lists\n",
    "    \n",
    "    \n",
    "# for word in words:\n",
    "#     print(word)\n",
    "#     w = word.strip(',.')\n",
    "#     print(w)\n",
    "# print(words)\n",
    "# print(glosses)\n"
   ]
  },
  {
   "cell_type": "code",
   "execution_count": 26,
   "metadata": {},
   "outputs": [
    {
     "name": "stdout",
     "output_type": "stream",
     "text": [
      "fi.tːi-as\n"
     ]
    }
   ],
   "source": [
    "a = 'fi.tːi-as, '\n",
    "b = a.strip(',. ')\n",
    "print(b)"
   ]
  }
 ],
 "metadata": {
  "kernelspec": {
   "display_name": "Python 3",
   "language": "python",
   "name": "python3"
  },
  "language_info": {
   "codemirror_mode": {
    "name": "ipython",
    "version": 3
   },
   "file_extension": ".py",
   "mimetype": "text/x-python",
   "name": "python",
   "nbconvert_exporter": "python",
   "pygments_lexer": "ipython3",
   "version": "3.7.0"
  }
 },
 "nbformat": 4,
 "nbformat_minor": 2
}
