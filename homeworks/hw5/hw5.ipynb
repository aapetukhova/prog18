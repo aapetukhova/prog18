{
 "cells": [
  {
   "cell_type": "code",
   "execution_count": null,
   "metadata": {},
   "outputs": [],
   "source": [
    "1 - структура БД - названия, исходные данные, нормальные данные(?The difference?) - ссылки на полные версии статей\n",
    "2 - веб-сервис (фласк) - произвольная фраза, ссылки на метариал, где встречается, кусочек страницы с ней\n",
    "\n",
    "1 - где брать и искать - из csv\n",
    "тексты придется искать по папкам\n",
    "\n",
    "2 - фласк, html - искать фразу по каждому тексту?\n",
    "оформление кусочка текста статьи...."
   ]
  }
 ],
 "metadata": {
  "kernelspec": {
   "display_name": "Python 3",
   "language": "python",
   "name": "python3"
  },
  "language_info": {
   "codemirror_mode": {
    "name": "ipython",
    "version": 3
   },
   "file_extension": ".py",
   "mimetype": "text/x-python",
   "name": "python",
   "nbconvert_exporter": "python",
   "pygments_lexer": "ipython3",
   "version": "3.7.0"
  }
 },
 "nbformat": 4,
 "nbformat_minor": 2
}
