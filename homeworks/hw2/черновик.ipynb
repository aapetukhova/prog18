{
 "cells": [
  {
   "cell_type": "code",
   "execution_count": null,
   "metadata": {},
   "outputs": [],
   "source": [
    "def getting_repos_1(user):\n",
    "    d = {}\n",
    "    data = get_data_1(user, 'repos')\n",
    "    for i in data:\n",
    "#         print('item', i)\n",
    "        for j in i:        \n",
    "            print('json', j)\n",
    "            d[j['name']] = j['description'] #словарь, где ключ - репозиторий, а значение - описание\n",
    "    print('Вот список его репозиториев:')\n",
    "    for key, value in d.items():\n",
    "        print('{}: {}'.format(key, value)) \n"
   ]
  },
  {
   "cell_type": "code",
   "execution_count": null,
   "metadata": {},
   "outputs": [],
   "source": [
    "import json\n",
    "import urllib.request\n",
    "def get_data_1(username, variable):\n",
    "    token = '4a7672e60547c41c5b62c353d539ee0117f26191' #токен\n",
    "    url = 'https://api.github.com/users/{}/{}?page=1?access_token={}'.format(username, variable, token) #variable - переменная для разных адресов (repos, followers)\n",
    "#     &per_page=100\n",
    "    response = urllib.request.urlopen(url)  # посылаем серверу запрос и достаем ответ\n",
    "    data_list =[]\n",
    "    text = response.read().decode('utf-8')  # читаем ответ в строку\n",
    "    data = json.loads(text)\n",
    "    data_list.append(data)\n",
    "#     print('first', data_list)\n",
    "    link = response.headers.get('link', None)\n",
    "    if link is not None:\n",
    "        r = re.search('rel=\"next\".*?page=(.*?)>; rel=\"last\"', link)\n",
    "        if r:\n",
    "            number_of_pages = int(r.group(1))\n",
    "#             print(number_of_pages)\n",
    "        for i in range(2, number_of_pages + 1):\n",
    "            url = 'https://api.github.com/users/{}/{}?page={}?access_token={}'.format(username, variable, i, token)\n",
    "            response = urllib.request.urlopen(url)\n",
    "            text = response.read().decode('utf-8')\n",
    "            data = json.loads(text)\n",
    "            print(data)\n",
    "            data_list.append(data)\n",
    "#             print('second',data_list)\n",
    "#     data = json.loads(text_list)\n",
    "    return data_list\n",
    "        \n",
    "#  print(link)    \n",
    "    # превращаем джейсон-строку в объекты питона\n",
    "    \n",
    "# <https://api.github.com/user/2439611/repos?page=2>; rel=\"next\", <https://api.github.com/user/2439611/repos?page=2>; rel=\"last\"\n",
    "get_data_1('roctbb', 'repos')"
   ]
  }
 ],
 "metadata": {
  "kernelspec": {
   "display_name": "Python 3",
   "language": "python",
   "name": "python3"
  },
  "language_info": {
   "codemirror_mode": {
    "name": "ipython",
    "version": 3
   },
   "file_extension": ".py",
   "mimetype": "text/x-python",
   "name": "python",
   "nbconvert_exporter": "python",
   "pygments_lexer": "ipython3",
   "version": "3.7.0"
  }
 },
 "nbformat": 4,
 "nbformat_minor": 2
}
