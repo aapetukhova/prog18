{
 "cells": [
  {
   "cell_type": "code",
   "execution_count": 1,
   "metadata": {},
   "outputs": [],
   "source": [
    "from flask import Flask\n",
    "from flask import url_for, render_template, request, redirect\n",
    "\n",
    "app = Flask(__name__)\n",
    "\n",
    "@app.route('/')\n",
    "def questionnaire():\n",
    "    return render_template('index.html')"
   ]
  },
  {
   "cell_type": "code",
   "execution_count": 4,
   "metadata": {},
   "outputs": [],
   "source": [
    "with open('empty.txt', 'x') as f:\n",
    "    f.write('дратути')"
   ]
  },
  {
   "cell_type": "code",
   "execution_count": 10,
   "metadata": {
    "scrolled": true
   },
   "outputs": [
    {
     "name": "stdout",
     "output_type": "stream",
     "text": [
      "n\n",
      "a\n",
      "c\n",
      "e\n",
      "the end\n"
     ]
    }
   ],
   "source": [
    "a = 'nacel'\n",
    "for i in range (0, len(a)):\n",
    "    if i != len(a) - 1:\n",
    "        print(a[i])\n",
    "    else:\n",
    "        print('the end')"
   ]
  },
  {
   "cell_type": "code",
   "execution_count": 49,
   "metadata": {},
   "outputs": [
    {
     "data": {
      "image/png": "[encoded data removed]",
      "text/plain": [
       "<Figure size 432x288 with 1 Axes>"
      ]
     },
     "metadata": {},
     "output_type": "display_data"
    }
   ],
   "source": [
    "import csv\n",
    "import os\n",
    "import collections\n",
    "import matplotlib\n",
    "import matplotlib.pyplot as plt\n",
    "# import seaborn\n",
    "from matplotlib import style\n",
    "style.use('ggplot')\n",
    "s = []\n",
    "n = 0\n",
    "X = []\n",
    "Y = []\n",
    "with open('results.csv', 'r', encoding='utf-8') as csvfile:\n",
    "    filereader = csv.reader(csvfile, delimiter=';')\n",
    "    for row in filereader:\n",
    "        n += 1\n",
    "        if row[1] != 'age':\n",
    "            s.append(row[1])\n",
    "    counter = collections.Counter(s)\n",
    "    for key, value in counter.items():\n",
    "        X.append(key)\n",
    "        Y.append(value)\n",
    "plt.scatter(X,Y)\n",
    "plt.title('Возраст')\n",
    "# количество возрастов\n",
    "plt.xlim(-0.5, len(X)-0.5)\n",
    "# количество респондентов\n",
    "plt.ylim(0, n-1)\n",
    "plt.xlabel('возраст')\n",
    "plt.ylabel('количество респондентов')\n",
    "\n",
    "plt.savefig('./static/plot2.png')"
   ]
  },
  {
   "cell_type": "code",
   "execution_count": 95,
   "metadata": {},
   "outputs": [
    {
     "name": "stdout",
     "output_type": "stream",
     "text": [
      "['фенОмен', 'феномЕн', 'феномЕн', 'фенОмен']\n",
      "['фенОмен', 'феномЕн'] [2, 2]\n"
     ]
    },
    {
     "data": {
      "image/png": "[encoded data removed]",
      "text/plain": [
       "<Figure size 432x288 with 1 Axes>"
      ]
     },
     "metadata": {},
     "output_type": "display_data"
    }
   ],
   "source": [
    "import csv\n",
    "import os\n",
    "import collections\n",
    "import matplotlib\n",
    "import matplotlib.pyplot as plt\n",
    "# import seaborn\n",
    "from matplotlib import style\n",
    "style.use('ggplot')\n",
    "s = []\n",
    "n = 0\n",
    "X = []\n",
    "Y = []\n",
    "with open('results.csv', 'r', encoding='utf-8') as csvfile:\n",
    "    filereader = csv.reader(csvfile, delimiter=';')\n",
    "    for row in filereader:\n",
    "        n += 1\n",
    "        if row[8] != 'phe':\n",
    "            s.append(row[8])\n",
    "    print(s)\n",
    "    counter = collections.Counter(s)\n",
    "    for key, value in counter.items():\n",
    "        X.append(key)\n",
    "#         if value == '1':\n",
    "#             letters = 'ударение на первый слог'            \n",
    "#             Y.append(letters)\n",
    "#         if value == '2':\n",
    "#             letters = 'ударение на 2 слог'\n",
    "        Y.append(value)\n",
    "    print(X,Y)\n",
    "plt.scatter(X,Y)\n",
    "# plt.legend()\n",
    "plt.title('феномен')\n",
    "# количество возрастов\n",
    "plt.xlim(-0.5, len(X)-0.5)\n",
    "# количество респондентов\n",
    "plt.ylim(0, n-1)\n",
    "plt.xlabel('ударение на слог')\n",
    "plt.ylabel('количество респондентов')\n",
    "name = './static/plot6'\n",
    "plt.savefig(name+'.png')"
   ]
  },
  {
   "cell_type": "code",
   "execution_count": 67,
   "metadata": {},
   "outputs": [],
   "source": [
    "import os\n",
    "import collections\n",
    "import matplotlib\n",
    "import matplotlib.pyplot as plt\n",
    "from matplotlib import style\n",
    "def plot_1():\n",
    "    style.use('ggplot')\n",
    "    s = []\n",
    "    n = 0\n",
    "    X = []\n",
    "    Y = []\n",
    "    with open('results.csv', 'r', encoding='utf-8') as csvfile:\n",
    "        filereader = csv.reader(csvfile, delimiter=';')\n",
    "        row1 = next(filereader)\n",
    "        xlabel = row1[1]\n",
    "        for row in filereader:\n",
    "            n += 1\n",
    "            if row[1] != xlabel:\n",
    "                s.append(row[1])\n",
    "        counter = collections.Counter(s)\n",
    "        for key, value in counter.items():\n",
    "            X.append(key)\n",
    "            Y.append(value)\n",
    "    plt.scatter(X,Y)\n",
    "    plt.title(xlabel)\n",
    "    plt.xlim(-0.5, len(X)-0.5)\n",
    "    plt.ylim(0, n)\n",
    "    plt.xlabel(xlabel)\n",
    "    plt.ylabel('NUM')\n",
    "\n",
    "    plt.savefig('./static/plot_' + str(k) + '.png')\n",
    "def plot_1():\n",
    "    style.use('ggplot')\n",
    "    s = []\n",
    "    n = 0\n",
    "    X = []\n",
    "    Y = []\n",
    "    with open('results.csv', 'r', encoding='utf-8') as csvfile:\n",
    "        filereader = csv.reader(csvfile, delimiter=';')\n",
    "        row1 = next(filereader)\n",
    "        xlabel = row1[1]\n",
    "        for row in filereader:\n",
    "            n += 1\n",
    "            if row[1] != xlabel:\n",
    "                s.append(row[1])\n",
    "        counter = collections.Counter(s)\n",
    "        for key, value in counter.items():\n",
    "            X.append(key)\n",
    "            Y.append(value)\n",
    "    plt.scatter(X,Y)\n",
    "    plt.title(xlabel)\n",
    "    plt.xlim(-0.5, len(X)-0.5)\n",
    "    plt.ylim(0, n)\n",
    "    plt.xlabel(xlabel)\n",
    "    plt.ylabel('NUM')\n",
    "\n",
    "    plt.savefig('./static/plot_' + str(k) + '.png')\n",
    "    \n",
    "def plot_1():\n",
    "    style.use('ggplot')\n",
    "    s = []\n",
    "    n = 0\n",
    "    X = []\n",
    "    Y = []\n",
    "    with open('results.csv', 'r', encoding='utf-8') as csvfile:\n",
    "        filereader = csv.reader(csvfile, delimiter=';')\n",
    "        row1 = next(filereader)\n",
    "        xlabel = row1[1]\n",
    "        for row in filereader:\n",
    "            n += 1\n",
    "            if row[1] != xlabel:\n",
    "                s.append(row[1])\n",
    "        counter = collections.Counter(s)\n",
    "        for key, value in counter.items():\n",
    "            X.append(key)\n",
    "            Y.append(value)\n",
    "    plt.scatter(X,Y)\n",
    "    plt.title(xlabel)\n",
    "    plt.xlim(-0.5, len(X)-0.5)\n",
    "    plt.ylim(0, n)\n",
    "    plt.xlabel(xlabel)\n",
    "    plt.ylabel('NUM')\n",
    "\n",
    "    plt.savefig('./static/plot_' + str(k) + '.png')\n",
    "    \n",
    "def plot_1():\n",
    "    style.use('ggplot')\n",
    "    s = []\n",
    "    n = 0\n",
    "    X = []\n",
    "    Y = []\n",
    "    with open('results.csv', 'r', encoding='utf-8') as csvfile:\n",
    "        filereader = csv.reader(csvfile, delimiter=';')\n",
    "        row1 = next(filereader)\n",
    "        xlabel = row1[1]\n",
    "        for row in filereader:\n",
    "            n += 1\n",
    "            if row[1] != xlabel:\n",
    "                s.append(row[1])\n",
    "        counter = collections.Counter(s)\n",
    "        for key, value in counter.items():\n",
    "            X.append(key)\n",
    "            Y.append(value)\n",
    "    plt.scatter(X,Y)\n",
    "    plt.title(xlabel)\n",
    "    plt.xlim(-0.5, len(X)-0.5)\n",
    "    plt.ylim(0, n)\n",
    "    plt.xlabel(xlabel)\n",
    "    plt.ylabel('NUM')\n",
    "\n",
    "    plt.savefig('./static/plot_' + str(k) + '.png')"
   ]
  },
  {
   "cell_type": "code",
   "execution_count": 65,
   "metadata": {},
   "outputs": [
    {
     "data": {
      "image/png": "[encoded data removed]",
      "text/plain": [
       "<Figure size 432x288 with 1 Axes>"
      ]
     },
     "metadata": {},
     "output_type": "display_data"
    }
   ],
   "source": [
    "# plot(1, 'age', 'Возраст', 'Возраст', 'Количество респондентов', './static/plot_1')\n",
    "# plot(2, 'sex', 'Пол', 'Пол', 'Количество респондентов', './static/plot_2')\n",
    "# plot(6, 'frs', 'forsatz', 'stress', 'part', './static/plot_3')\n",
    "for i in range(1,12):\n",
    "    plot(i)"
   ]
  },
  {
   "cell_type": "code",
   "execution_count": 50,
   "metadata": {},
   "outputs": [
    {
     "ename": "IndexError",
     "evalue": "list assignment index out of range",
     "output_type": "error",
     "traceback": [
      "\u001b[1;31m---------------------------------------------------------------------------\u001b[0m",
      "\u001b[1;31mIndexError\u001b[0m                                Traceback (most recent call last)",
      "\u001b[1;32m<ipython-input-50-eef06612ee2c>\u001b[0m in \u001b[0;36m<module>\u001b[1;34m()\u001b[0m\n\u001b[0;32m      9\u001b[0m     \u001b[0mplot\u001b[0m\u001b[1;33m[\u001b[0m\u001b[1;34m'ylabel'\u001b[0m\u001b[1;33m]\u001b[0m \u001b[1;33m=\u001b[0m \u001b[1;34m'NUM'\u001b[0m\u001b[1;33m\u001b[0m\u001b[0m\n\u001b[0;32m     10\u001b[0m     \u001b[0mplot\u001b[0m\u001b[1;33m[\u001b[0m\u001b[1;34m'iname'\u001b[0m\u001b[1;33m]\u001b[0m \u001b[1;33m=\u001b[0m \u001b[1;34m'plot_1'\u001b[0m\u001b[1;33m\u001b[0m\u001b[0m\n\u001b[1;32m---> 11\u001b[1;33m     \u001b[0mplots\u001b[0m\u001b[1;33m[\u001b[0m\u001b[0mi\u001b[0m\u001b[1;33m]\u001b[0m \u001b[1;33m=\u001b[0m \u001b[0mplot\u001b[0m\u001b[1;33m\u001b[0m\u001b[0m\n\u001b[0m\u001b[0;32m     12\u001b[0m \u001b[0mprint\u001b[0m \u001b[1;33m(\u001b[0m\u001b[0mplots\u001b[0m\u001b[1;33m)\u001b[0m\u001b[1;33m\u001b[0m\u001b[0m\n\u001b[0;32m     13\u001b[0m \u001b[1;33m\u001b[0m\u001b[0m\n",
      "\u001b[1;31mIndexError\u001b[0m: list assignment index out of range"
     ]
    }
   ],
   "source": [
    "# plots = [['1', 'age', 'AGE', 'AGE', 'NUM', 'plot_1']]\n",
    "# plots = {{'k': '1', 'variable': 'age', 'title': 'AGE', 'xlabel': 'AGE', 'ylabel': 'NUM', 'iname': 'plot_1'}, {'k': '2', 'variable': 'sex', 'title': 'SEX', 'xlabel': 'SEX', 'ylabel': 'NUM', 'iname': 'plot_2'}}\n",
    "plot = {}\n",
    "for i in range (1, 2):\n",
    "    plot['k'] = '1'\n",
    "    plot['variable'] = 'age'\n",
    "    plot['title'] = 'AGE'\n",
    "    plot['xlabel'] = 'AGE'\n",
    "    plot['ylabel'] = 'NUM'\n",
    "    plot['iname'] = 'plot_1'\n",
    "    plot['k'] = '1'\n",
    "    plot['variable'] = 'age'\n",
    "    plot['title'] = 'AGE'\n",
    "    plot['xlabel'] = 'AGE'\n",
    "    plot['ylabel'] = 'NUM'\n",
    "    plot['iname'] = 'plot_1'\n",
    "    plots[i] = plot\n",
    "print (plots)\n",
    "    \n",
    "# for item in plots:\n",
    "#     for key, values in item.items():\n",
    "# #     for i in item:\n",
    "# #     print(i)\n",
    "#         plot(k, variable, title, xlabel, ylabel, iname)\n",
    "#     filenames.append(item[5])\n",
    "\n",
    "# , ['2', 'sex', 'POL', 'POL', 'NUM', 'plot_2']]\n",
    "# filenames = []"
   ]
  },
  {
   "cell_type": "code",
   "execution_count": 20,
   "metadata": {},
   "outputs": [
    {
     "ename": "TypeError",
     "evalue": "object of type '_csv.reader' has no len()",
     "output_type": "error",
     "traceback": [
      "\u001b[1;31m---------------------------------------------------------------------------\u001b[0m",
      "\u001b[1;31mTypeError\u001b[0m                                 Traceback (most recent call last)",
      "\u001b[1;32m<ipython-input-20-b57f0eef0f79>\u001b[0m in \u001b[0;36m<module>\u001b[1;34m()\u001b[0m\n\u001b[0;32m      1\u001b[0m \u001b[1;32mwith\u001b[0m \u001b[0mopen\u001b[0m\u001b[1;33m(\u001b[0m\u001b[1;34m'results.csv'\u001b[0m\u001b[1;33m,\u001b[0m \u001b[1;34m'r'\u001b[0m\u001b[1;33m,\u001b[0m \u001b[0mencoding\u001b[0m\u001b[1;33m=\u001b[0m\u001b[1;34m'utf-8'\u001b[0m\u001b[1;33m)\u001b[0m \u001b[1;32mas\u001b[0m \u001b[0mcsvfile\u001b[0m\u001b[1;33m:\u001b[0m\u001b[1;33m\u001b[0m\u001b[0m\n\u001b[0;32m      2\u001b[0m     \u001b[0mfilereader\u001b[0m \u001b[1;33m=\u001b[0m \u001b[0mcsv\u001b[0m\u001b[1;33m.\u001b[0m\u001b[0mreader\u001b[0m\u001b[1;33m(\u001b[0m\u001b[0mcsvfile\u001b[0m\u001b[1;33m,\u001b[0m \u001b[0mdelimiter\u001b[0m\u001b[1;33m=\u001b[0m\u001b[1;34m';'\u001b[0m\u001b[1;33m)\u001b[0m\u001b[1;33m\u001b[0m\u001b[0m\n\u001b[1;32m----> 3\u001b[1;33m     \u001b[0ma\u001b[0m \u001b[1;33m=\u001b[0m \u001b[0mlen\u001b[0m\u001b[1;33m(\u001b[0m\u001b[0mfilereader\u001b[0m\u001b[1;33m)\u001b[0m\u001b[1;33m\u001b[0m\u001b[0m\n\u001b[0m\u001b[0;32m      4\u001b[0m \u001b[0mprint\u001b[0m\u001b[1;33m(\u001b[0m\u001b[0ma\u001b[0m\u001b[1;33m)\u001b[0m\u001b[1;33m\u001b[0m\u001b[0m\n",
      "\u001b[1;31mTypeError\u001b[0m: object of type '_csv.reader' has no len()"
     ]
    }
   ],
   "source": [
    "with open('results.csv', 'r', encoding='utf-8') as csvfile:\n",
    "    filereader = csv.reader(csvfile, delimiter=';')\n",
    "    a = len(filereader)\n",
    "print(a)"
   ]
  },
  {
   "cell_type": "code",
   "execution_count": 51,
   "metadata": {},
   "outputs": [
    {
     "data": {
      "image/png": "[encoded data removed]",
      "text/plain": [
       "<Figure size 432x288 with 2 Axes>"
      ]
     },
     "metadata": {},
     "output_type": "display_data"
    }
   ],
   "source": []
  },
  {
   "cell_type": "code",
   "execution_count": 125,
   "metadata": {},
   "outputs": [
    {
     "name": "stdout",
     "output_type": "stream",
     "text": [
      "['фенОмен', 'феномЕн', ['19', '91', '32', '7'], ['19', '91', '32', '7'], ['19', '91', '32', '7'], ['19', '91', '32', '7'], ['19', '91', '32', '7'], ['19', '91', '32', '7'], ['19', '91', '32', '7'], ['19', '91', '32', '7'], ['19', '91', '32', '7'], ['female', 'male', 'female', 'female'], ['19', '91', '32', '7'], ['female', 'male', 'female', 'female'], ['19', '91', '32', '7'], ['female', 'male', 'female', 'female'], ['19', '91', '32', '7'], ['female', 'male', 'female', 'female'], ['age', '19', '91', '32', '7'], ['sex', 'female', 'male', 'female', 'female'], ['age', '19', '91', '32', '7'], ['sex', 'female', 'male', 'female', 'female'], ['age', '19', '91', '32', '7'], ['sex', 'female', 'male', 'female', 'female'], ['age', '19', '91', '32', '7'], ['sex', 'female', 'male', 'female', 'female'], ['age', '19', '91', '32', '7'], ['sex', 'female', 'male', 'female', 'female'], ['age', '19', '91', '32', '7'], ['sex', 'female', 'male', 'female', 'female'], ['age', '19', '91', '32', '7'], ['sex', 'female', 'male', 'female', 'female'], ['age', '19', '91', '32', '7'], ['sex', 'female', 'male', 'female', 'female'], ['age', '19', '91', '32', '7'], ['sex', 'female', 'male', 'female', 'female'], ['age', '19', '91', '32', '7'], ['sex', 'female', 'male', 'female', 'female'], ['age', '19', '91', '32', '7'], ['sex', 'female', 'male', 'female', 'female'], ['age', '19', '91', '32', '7'], ['sex', 'female', 'male', 'female', 'female'], ['age', '19', '91', '32', '7'], ['sex', 'female', 'male', 'female', 'female'], ['age', '19', '91', '32', '7'], ['sex', 'female', 'male', 'female', 'female'], ['age', '19', '91', '32', '7'], ['sex', 'female', 'male', 'female', 'female'], ['19', '91', '32', '7'], ['female', 'male', 'female', 'female'], ['19', '91', '32', '7'], ['female', 'male', 'female', 'female'], ['19', '91', '32', '7'], ['female', 'male', 'female', 'female'], ['19', '91', '32', '7'], ['female', 'male', 'female', 'female'], ['19', '91', '32', '7'], ['female', 'male', 'female', 'female'], ['19', '91', '32', '7'], ['female', 'male', 'female', 'female']]\n"
     ]
    }
   ],
   "source": [
    "def plot():\n",
    "    age = []\n",
    "    sex = []\n",
    "    with open('results.csv', 'r', encoding='utf-8') as csvfile:\n",
    "        filereader = csv.reader(csvfile, delimiter=';')\n",
    "        row1 = next(filereader) \n",
    "        for row in filereader:  \n",
    "            age.append(row[1])\n",
    "            \n",
    "            sex.append(row[2])\n",
    "        X.append(age)\n",
    "        X.append(sex)\n",
    "#             x.append(row[2])\n",
    "#             x.append(row[3])\n",
    "#             x.append(row[4])\n",
    "            \n",
    "        \n",
    "#             content = list(row[i] for i in range(1, 6))\n",
    "        print(X)\n",
    "#         print(age)\n",
    "#         print(sex)\n",
    "#             xlabel = row1[i]\n",
    "#                 print(xlabel)\n",
    "#                 counter = {}\n",
    "\n",
    "                                        \n",
    "# #                 n += 1\n",
    "#                 s.append(row[i])                \n",
    "#                 print(row[i])\n",
    "        \n",
    "#     for row in filereader:\n",
    "#         n += 1\n",
    "#         if row[8] != 'phe':\n",
    "#             s.append(row[8])\n",
    "# #     print(s)\n",
    "#         counter = collections.Counter(s)\n",
    "#         for key, value in counter.items():\n",
    "#             X.append(key)\n",
    "# #         if value == '1':\n",
    "# #             letters = 'ударение на первый слог'            \n",
    "# #             Y.append(letters)\n",
    "# #         if value == '2':\n",
    "# #             letters = 'ударение на 2 слог'\n",
    "#             Y.append(value)\n",
    "#     print(X,Y)\n",
    "\n",
    "#             counter = collections.Counter(s)\n",
    "#             print(counter)\n",
    "#             for key, value in counter.items():\n",
    "#                 x.append(key)\n",
    "#                 print(x)\n",
    "#                 y.append(value)\n",
    "#                 print(y)\n",
    "#             X.append(x)\n",
    "# #             Y.append(y)\n",
    "#     print(X)\n",
    "#     print(Y)\n",
    "#     print(s)\n",
    "\n",
    "plot()\n",
    "            \n",
    "        \n",
    "            \n",
    "            \n",
    "            \n",
    "#     plt.scatter(X,Y)\n",
    "#     plt.title(xlabel)\n",
    "#     plt.xlim(-0.5, len(X)-0.5)\n",
    "#     plt.ylim(0, n)\n",
    "#     plt.xlabel(xlabel)\n",
    "#     plt.ylabel('NUM')\n",
    "\n",
    "#     plt.savefig('./static/plot_' + str(k) + '.png')"
   ]
  },
  {
   "cell_type": "code",
   "execution_count": 158,
   "metadata": {},
   "outputs": [],
   "source": [
    "def plot():    \n",
    "    age = []\n",
    "    sex = []\n",
    "    city = []\n",
    "    language = []\n",
    "    education = []\n",
    "    frs = []\n",
    "    cat = []\n",
    "    phe = []\n",
    "    new =[]\n",
    "    rad =[]\n",
    "    hyu = []\n",
    "    \n",
    "    s = [age, sex, city, language, education, frs, cat, phe, new, rad, hyu]\n",
    "    \n",
    "    X = []\n",
    "    \n",
    "    with open('results.csv', 'r', encoding='utf-8') as csvfile:\n",
    "        filereader = csv.reader(csvfile, delimiter=';')\n",
    "        for row in filereader:  \n",
    "            age.append(row[1])            \n",
    "            sex.append(row[2])\n",
    "            city.append(row[3]) \n",
    "            language.append(row[4]) \n",
    "            education.append(row[5]) \n",
    "            frs.append(row[6]) \n",
    "            cat.append(row[7]) \n",
    "            phe.append(row[8]) \n",
    "            new.append(row[9]) \n",
    "            rad.append(row[10]) \n",
    "            hyu.append(row[11]) \n",
    "        for item in s:\n",
    "            X.append(item)\n",
    "#         X.append(sex)\n",
    "        return X\n",
    "#         print(s)\n",
    "# plot()"
   ]
  },
  {
   "cell_type": "code",
   "execution_count": 162,
   "metadata": {},
   "outputs": [
    {
     "name": "stdout",
     "output_type": "stream",
     "text": [
      "5\n",
      "age\n",
      "4\n",
      "sex\n",
      "4\n",
      "city\n",
      "4\n",
      "language\n",
      "4\n",
      "education\n",
      "4\n",
      "frs\n",
      "4\n",
      "cat\n",
      "4\n",
      "phe\n",
      "4\n",
      "new\n",
      "4\n",
      "rad\n",
      "4\n",
      "hyu\n",
      "4\n"
     ]
    }
   ],
   "source": [
    "def count():\n",
    "    s = plot()\n",
    "    n = len(s[0]) - 1\n",
    "    return n\n",
    "\n",
    "# print(count())\n",
    "# словарь значений столюцов\n",
    "s = plot()\n",
    "# print(s)\n",
    "\n",
    "for i in range (0, len(s)):\n",
    "    X = []\n",
    "    Y = []\n",
    "    counter = collections.Counter(s[i])\n",
    "    for key, value in counter.items():\n",
    "        X.append(key)\n",
    "        Y.append(value)\n",
    "    plt.subplot(4, 3, i+1)\n",
    "    plt.scatter(X,Y)\n",
    "    plt.title(s[i])\n",
    "\n"
   ]
  },
  {
   "cell_type": "code",
   "execution_count": 181,
   "metadata": {},
   "outputs": [],
   "source": [
    "def plot(k):\n",
    "    style.use('ggplot')\n",
    "    s = []\n",
    "    n = 0\n",
    "    X = []\n",
    "    Y = []\n",
    "    with open('results.csv', 'r', encoding='utf-8') as csvfile:\n",
    "        filereader = csv.reader(csvfile, delimiter=';')\n",
    "        row1 = next(filereader)\n",
    "        xlabel = row1[k]\n",
    "        for row in filereader:\n",
    "            n += 1\n",
    "            if row[k] != xlabel:\n",
    "                s.append(row[k])\n",
    "        counter = collections.Counter(s)\n",
    "        for key, value in counter.items():\n",
    "            X.append(key)\n",
    "            Y.append(value)\n",
    "    plt.subplot(4, 3, i)\n",
    "    plt.scatter(X,Y)\n",
    "    plt.title(xlabel)\n",
    "    plt.xlim(-0.5, len(X)-0.5)\n",
    "    plt.ylim(0, n)\n",
    "#     plt.xlabel(xlabel)\n",
    "    plt.ylabel('NUM')\n",
    "\n",
    "#     plt.savefig('./static/plot_' + str(k) + '.png')\n",
    "\n",
    "# plot(11)"
   ]
  },
  {
   "cell_type": "code",
   "execution_count": 184,
   "metadata": {},
   "outputs": [
    {
     "data": {
      "image/png": "[encoded data removed]",
      "text/plain": [
       "<Figure size 432x288 with 11 Axes>"
      ]
     },
     "metadata": {},
     "output_type": "display_data"
    }
   ],
   "source": [
    "for i in range (1, 12):\n",
    "    plot(i)\n",
    "plt.subplots_adjust(top=0.92, bottom=0.08, left=0.10, right=0.95, hspace=0.25,\n",
    "                    wspace=0.35)\n",
    "plt.tight_layout()\n",
    "plt.savefig('./static/plot.png')"
   ]
  },
  {
   "cell_type": "code",
   "execution_count": 186,
   "metadata": {},
   "outputs": [
    {
     "name": "stdout",
     "output_type": "stream",
     "text": [
      "Efhdscbx\n"
     ]
    }
   ],
   "source": [
    "a = 'efhdscbx'\n",
    "print(a.capitalize())"
   ]
  },
  {
   "cell_type": "code",
   "execution_count": 206,
   "metadata": {},
   "outputs": [
    {
     "data": {
      "image/png": "[encoded data removed]",
      "text/plain": [
       "<Figure size 432x288 with 5 Axes>"
      ]
     },
     "metadata": {},
     "output_type": "display_data"
    }
   ],
   "source": [
    "def query(k, language, education):\n",
    "    style.use('ggplot')\n",
    "    s = []\n",
    "    n = 0\n",
    "    X = []\n",
    "    Y = []\n",
    "    with open('results.csv', 'r', encoding='utf-8') as csvfile:\n",
    "        filereader = csv.reader(csvfile, delimiter=';')\n",
    "        row1 = next(filereader)\n",
    "        xlabel = row1[k]\n",
    "        for row in filereader:\n",
    "            if row[4] == language and row[5] == education:\n",
    "                n += 1\n",
    "                s.append(row[k])\n",
    "            counter = collections.Counter(s)\n",
    "            for key, value in counter.items():\n",
    "                X.append(key)\n",
    "                Y.append(value)\n",
    "        plt.subplot(4, 3, i)\n",
    "        plt.scatter(X,Y)\n",
    "        plt.title(xlabel)\n",
    "        plt.xlim(-0.5, len(X)-0.5)\n",
    "        plt.ylim(0, n+0.5)\n",
    "        plt.ylabel('NUM')\n",
    "\n",
    "#     query(i, 'русский', 'school')\n",
    "for i in range (6, 11):\n",
    "    query(i, 'русский', 'school')\n",
    "plt.subplots_adjust(top=1, bottom=0, left=0.125, right=0.99, hspace=0.2,\n",
    "                    wspace=0.35)\n",
    "plt.tight_layout()\n",
    "plt.savefig('./static/results.png', orientation='landscape', dpi=500)    \n",
    "\n",
    "\n",
    "\n",
    "\n",
    "\n",
    "\n",
    "\n",
    "\n",
    "for i in range (6, 11):\n",
    "            query(i, 'русский', 'school')\n",
    "        plt.subplots_adjust(top=1, bottom=0, left=0.125, right=0.99, hspace=0.2,\n",
    "                    wspace=0.35)\n",
    "        plt.tight_layout()\n",
    "        plt.savefig('./static/results.png', orientation='landscape', dpi=500)\n"
   ]
  },
  {
   "cell_type": "code",
   "execution_count": 35,
   "metadata": {},
   "outputs": [
    {
     "data": {
      "image/png": "[encoded data removed]",
      "text/plain": [
       "<Figure size 432x288 with 6 Axes>"
      ]
     },
     "metadata": {},
     "output_type": "display_data"
    }
   ],
   "source": [
    "import os\n",
    "import collections\n",
    "import matplotlib\n",
    "import matplotlib.pyplot as plt\n",
    "from matplotlib import style\n",
    "import seaborn\n",
    "import csv\n",
    "def query(i, language, education):\n",
    "#     style.use('ggplot')\n",
    "    s = []\n",
    "    n = 0\n",
    "    X = []\n",
    "    Y = []\n",
    "    with open('results.csv', 'r', encoding='utf-8') as csvfile:\n",
    "#         k = i + 6\n",
    "        filereader = csv.reader(csvfile, delimiter=';')\n",
    "        row1 = next(filereader)\n",
    "        xlabel = row1[i + 6]\n",
    "        for row in filereader:\n",
    "            if row[4] == language and row[5] == education:\n",
    "                n += 1\n",
    "                s.append(row[i + 6])\n",
    "        counter = collections.Counter(s)\n",
    "        for key, value in counter.items():\n",
    "            X.append(key)\n",
    "            Y.append(value)\n",
    "    plt.subplot(3, 4, i + 6)\n",
    "    plt.scatter(X,Y)\n",
    "    plt.title(xlabel)\n",
    "    plt.xlim(-0.5, len(X)-0.5)\n",
    "    plt.ylim(0, n+0.5)\n",
    "    plt.xticks(X, rotation=90)\n",
    "    plt.ylabel('NUM')\n",
    "\n",
    "for i in range (0, 6):\n",
    "    query(i, 'ацтекский', 'school')\n",
    "plt.subplots_adjust(top=1, bottom=0, left=0.125, right=0.99, hspace=0.2,\n",
    "                    wspace=0.35)\n",
    "plt.tight_layout()\n",
    "plt.savefig('./static/results.png', orientation='landscape', dpi=500)\n"
   ]
  },
  {
   "cell_type": "code",
   "execution_count": null,
   "metadata": {},
   "outputs": [],
   "source": []
  }
 ],
 "metadata": {
  "kernelspec": {
   "display_name": "Python 3",
   "language": "python",
   "name": "python3"
  },
  "language_info": {
   "codemirror_mode": {
    "name": "ipython",
    "version": 3
   },
   "file_extension": ".py",
   "mimetype": "text/x-python",
   "name": "python",
   "nbconvert_exporter": "python",
   "pygments_lexer": "ipython3",
   "version": "3.7.0"
  }
 },
 "nbformat": 4,
 "nbformat_minor": 2
}
