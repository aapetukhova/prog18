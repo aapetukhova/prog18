{
 "cells": [
  {
   "cell_type": "code",
   "execution_count": null,
   "metadata": {},
   "outputs": [],
   "source": [
    "# # weather - <span class='temp_value'>\n",
    "# # cloudness - <div class='forecast-briefly-old_condition'>\n",
    "# восход <span class=\"sunrise-sunset__text\">Sunrise</span>.*?<dd class=\"sunrise-sunset__value\">(.*?)</dd>\n",
    "# закат <span class=\"sunrise-sunset__text\">Sunset</span>.*?<dd class=\"sunrise-sunset__value\">(.*?)</dd>\n",
    "завтра <div class=\"temp forecast-briefly-old__day\">.*?<span class=\"temp__value\">(.*?)</span>\n"
   ]
  },
  {
   "cell_type": "code",
   "execution_count": 17,
   "metadata": {},
   "outputs": [
    {
     "name": "stdout",
     "output_type": "stream",
     "text": [
      "Погода сегодня: +7\n",
      "Осадки: Partly cloudy\n",
      "Восход: 06:27\n",
      "Закат: 18:10\n"
     ]
    }
   ],
   "source": [
    "import re\n",
    "import urllib.request  # импортируем модуль \n",
    "req = urllib.request.Request('https://yandex.com/weather/moscow')\n",
    "with urllib.request.urlopen(req) as response: #opening of a request\n",
    "   html = response.read().decode('utf-8')\n",
    "regTemp = re.search('<span class=\"temp__value\">(.*?)</span>', html)\n",
    "\n",
    "if regTemp:\n",
    "    print('Погода сегодня:', regTemp.group(1))\n",
    "    \n",
    "regCloud = re.search('<div class=\"forecast-briefly-old__condition\">(.*?)</div>', html)\n",
    "if regCloud:\n",
    "    print('Осадки:', regCloud.group(1))\n",
    "    \n",
    "regRise = re.search('<span class=\"sunrise-sunset__text\">Sunrise</span>.*?<dd class=\"sunrise-sunset__value\">(.*?)</dd>', html)\n",
    "if regRise:\n",
    "    print('Восход:', regRise.group(1))\n",
    "\n",
    "reg = re.search('<span class=\"sunrise-sunset__text\">Sunset</span>.*?<dd class=\"sunrise-sunset__value\">(.*?)</dd>', html)\n",
    "if reg:\n",
    "    print('Закат:', reg.group(1))\n"
   ]
  },
  {
   "cell_type": "code",
   "execution_count": null,
   "metadata": {},
   "outputs": [],
   "source": []
  }
 ],
 "metadata": {
  "kernelspec": {
   "display_name": "Python 3",
   "language": "python",
   "name": "python3"
  },
  "language_info": {
   "codemirror_mode": {
    "name": "ipython",
    "version": 3
   },
   "file_extension": ".py",
   "mimetype": "text/x-python",
   "name": "python",
   "nbconvert_exporter": "python",
   "pygments_lexer": "ipython3",
   "version": "3.7.0"
  }
 },
 "nbformat": 4,
 "nbformat_minor": 2
}
