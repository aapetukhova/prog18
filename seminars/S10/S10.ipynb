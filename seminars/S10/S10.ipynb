{
 "cells": [
  {
   "cell_type": "code",
   "execution_count": 62,
   "metadata": {},
   "outputs": [],
   "source": [
    "import csv\n",
    "\n",
    "# функция создает список списков формант звуков в зависимости от деревни\n",
    "def lists():\n",
    "    a = []\n",
    "    d_i_1 = []\n",
    "    d_i_2 = []\n",
    "    d_I_1 =[]\n",
    "    d_I_2 =[]\n",
    "    d_e_1 =[]\n",
    "    d_e_2 =[]\n",
    "    n_i_1 =[]\n",
    "    n_i_2 =[]\n",
    "    n_I_1 = []\n",
    "    n_I_2 = []\n",
    "    n_e_1 = []\n",
    "    n_e_2 = []\n",
    "    with open('nanai-vowels.csv', encoding='utf-8') as csvfile:\n",
    "        filereader = csv.reader(csvfile, delimiter=';', quotechar='|')\n",
    "        for row in filereader: \n",
    "            if row[2] == 'Dzhuen':\n",
    "                if row[3] == 'i':\n",
    "                    d_i_1.append(float(row[4]))\n",
    "                    d_i_2.append(float(row[5]))\n",
    "                elif row[3] == 'I':\n",
    "                    d_I_1.append(float(row[4]))\n",
    "                    d_I_2.append(float(row[5]))\n",
    "                elif row[3] == 'e':\n",
    "                    d_e_1.append(float(row[4]))\n",
    "                    d_e_2.append(float(row[5]))\n",
    "            if row[2] == 'Naikhin':\n",
    "                if row[3] == 'i':\n",
    "                    n_i_1.append(float(row[4]))\n",
    "                    n_i_2.append(float(row[5]))\n",
    "                elif row[3] == 'I':\n",
    "                    n_I_1.append(float(row[4]))\n",
    "                    n_I_2.append(float(row[5]))\n",
    "                elif row[3] == 'e':\n",
    "                    n_e_1.append(float(row[4]))\n",
    "                    n_e_2.append(float(row[5]))\n",
    "        a.append(d_i_1)\n",
    "        a.append(d_i_2)\n",
    "        a.append(d_I_1)\n",
    "        a.append(d_I_2)\n",
    "        a.append(d_e_1)\n",
    "        a.append(d_e_2)\n",
    "        a.append(n_i_1)\n",
    "        a.append(n_i_2)\n",
    "        a.append(n_I_1)\n",
    "        a.append(n_I_2)\n",
    "        a.append(n_e_1)\n",
    "        a.append(n_e_2)           \n",
    "    return a\n"
   ]
  },
  {
   "cell_type": "code",
   "execution_count": 63,
   "metadata": {},
   "outputs": [],
   "source": [
    "import statistics\n",
    "\n",
    "# функция создает список средних значений формант, четные - первые, нечетные - вторые\n",
    "# первые 6 - деревни Dzhuen, вторые - Nankhin\n",
    "def mean(a):\n",
    "    c = []\n",
    "    for item in a:       \n",
    "        b = statistics.mean(item)\n",
    "        c.append(b)\n",
    "    return c       \n",
    "        \n",
    "# print(mean(lists()))"
   ]
  },
  {
   "cell_type": "code",
   "execution_count": 64,
   "metadata": {},
   "outputs": [
    {
     "data": {
      "image/png": "[encoded data removed]",
      "text/plain": [
       "<Figure size 432x288 with 1 Axes>"
      ]
     },
     "metadata": {
      "needs_background": "light"
     },
     "output_type": "display_data"
    }
   ],
   "source": [
    "# собственно графики\n",
    "import matplotlib.pyplot as plt\n",
    "import seaborn\n",
    "\n",
    "\n",
    "# функция создет графики формант для деревни Dzhuen\n",
    "def plot_D(c):\n",
    "    X = [1, 2, 3]\n",
    "#     список первый формант\n",
    "    Y_D_1= []\n",
    "#     список вторых формант\n",
    "    Y_D_2= []\n",
    "    for i in range (0, 6, 2):\n",
    "        Y_D_1.append(c[i])\n",
    "    for i in range (1, 6, 2):\n",
    "        Y_D_2.append(c[i])       \n",
    "#     Y_N = c[3:-1]\n",
    "    plt.plot(X, Y_D_1, label='F1')\n",
    "    plt.plot(X, Y_D_2, label='F2')\n",
    "    plt.xticks(X, ['i', 'I', 'e'])\n",
    "    plt.title('Dzhuen')\n",
    "    plt.xlabel('Гласные')\n",
    "    plt.ylabel('Значения формант')\n",
    "    plt.legend()\n",
    "    plt.show()\n",
    "    \n",
    "plot_D(mean(lists()))\n"
   ]
  },
  {
   "cell_type": "code",
   "execution_count": 65,
   "metadata": {},
   "outputs": [
    {
     "data": {
      "image/png": "[encoded data removed]",
      "text/plain": [
       "<Figure size 432x288 with 1 Axes>"
      ]
     },
     "metadata": {
      "needs_background": "light"
     },
     "output_type": "display_data"
    }
   ],
   "source": [
    "# собственно графики\n",
    "import matplotlib.pyplot as plt\n",
    "import seaborn\n",
    "\n",
    "\n",
    "# функция создает графики формант для деревни Nankhin\n",
    "def plot_N(c):\n",
    "    X = [1, 2, 3]\n",
    "#     список первый формант\n",
    "    Y_D_1= []\n",
    "#     список вторых формант\n",
    "    Y_D_2= []\n",
    "    for i in range (6, 12, 2):\n",
    "        Y_D_1.append(c[i])\n",
    "    for i in range (7, 12, 2):\n",
    "        Y_D_2.append(c[i])       \n",
    "#     Y_N = c[3:-1]\n",
    "    plt.plot(X, Y_D_1, label='F1')\n",
    "    plt.plot(X, Y_D_2, label='F2')\n",
    "    plt.xticks(X, ['i', 'I', 'e'])\n",
    "    plt.title('Nankhin')\n",
    "    plt.xlabel('Гласные')\n",
    "    plt.ylabel('Значения формант')\n",
    "    plt.legend()\n",
    "    plt.show()\n",
    "    \n",
    "plot_N(mean(lists()))"
   ]
  },
  {
   "cell_type": "code",
   "execution_count": null,
   "metadata": {},
   "outputs": [],
   "source": []
  }
 ],
 "metadata": {
  "kernelspec": {
   "display_name": "Python 3",
   "language": "python",
   "name": "python3"
  },
  "language_info": {
   "codemirror_mode": {
    "name": "ipython",
    "version": 3
   },
   "file_extension": ".py",
   "mimetype": "text/x-python",
   "name": "python",
   "nbconvert_exporter": "python",
   "pygments_lexer": "ipython3",
   "version": "3.7.0"
  }
 },
 "nbformat": 4,
 "nbformat_minor": 2
}
