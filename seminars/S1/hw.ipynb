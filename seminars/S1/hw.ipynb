{
 "cells": [
  {
   "cell_type": "code",
   "execution_count": 7,
   "metadata": {},
   "outputs": [
    {
     "name": "stdout",
     "output_type": "stream",
     "text": [
      "157\n"
     ]
    }
   ],
   "source": [
    "def file(filename):\n",
    "    with open(filename, encoding='utf-8') as f:\n",
    "        words = []\n",
    "        for line in f:\n",
    "            words.append(line.strip('\\n'))    \n",
    "    return words\n",
    "\n",
    "def count(words):\n",
    "    max = 0\n",
    "    for word in words:\n",
    "        if len(word) > max:\n",
    "            max = len(word)\n",
    "    print(max)\n",
    "    \n",
    "def main():\n",
    "    count(file('dino.txt'))\n",
    "\n",
    "if __name__ == '__main__':\n",
    "    main()"
   ]
  },
  {
   "cell_type": "code",
   "execution_count": null,
   "metadata": {},
   "outputs": [],
   "source": []
  }
 ],
 "metadata": {
  "kernelspec": {
   "display_name": "Python 3",
   "language": "python",
   "name": "python3"
  },
  "language_info": {
   "codemirror_mode": {
    "name": "ipython",
    "version": 3
   },
   "file_extension": ".py",
   "mimetype": "text/x-python",
   "name": "python",
   "nbconvert_exporter": "python",
   "pygments_lexer": "ipython3",
   "version": "3.7.0"
  }
 },
 "nbformat": 4,
 "nbformat_minor": 2
}
