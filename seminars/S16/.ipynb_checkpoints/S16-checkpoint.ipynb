{
 "cells": [
  {
   "cell_type": "code",
   "execution_count": 8,
   "metadata": {},
   "outputs": [
    {
     "data": {
      "text/plain": [
       "3"
      ]
     },
     "execution_count": 8,
     "metadata": {},
     "output_type": "execute_result"
    }
   ],
   "source": [
    "import networkx as nx\n",
    "\n",
    "G = nx.Graph() # пустой граф\n",
    "G.add_node(1) # добавляем один узел\n",
    "G.add_nodes_from([2 ,3, 4, 5, 6, 7])\n",
    "\n",
    "# G.remove_node(2) # впрочем, один узел лишний, его, пожалуй, удалим\n",
    "\n",
    "# То, как мы обозначаем узлы (1, 2, 3 ...) — это их id. Но вообще-то мы можем приклеить к ним и человекопонятные ярлыки:\n",
    "# G.add_node(1, label=\"node_1\")\n",
    "\n",
    "\n",
    "G.add_edge(1,3) # ребро между узлами 1 и 3\n",
    "G.add_edges_from([(1, 4), (1, 5), (3, 5), (4, 5), (1, 6), (1, 7)]) # сразу несколько рёбер\n",
    "\n",
    "# G.remove_edge(1, 5) # хотя одно ребро лишнее...\n",
    "\n",
    "# print('узлы', G.nodes())\n",
    "# print('рёбра', G.edges())\n",
    "\n",
    "# G.neighbors(3) # это итератор\n",
    "# print([n for n in G.neighbors(3)])\n",
    "\n",
    "G.degree(5)"
   ]
  },
  {
   "cell_type": "code",
   "execution_count": 9,
   "metadata": {},
   "outputs": [],
   "source": [
    "# reading\n",
    "# G1 = nx.read_gexf('graph_file.gexf')\n",
    "\n",
    "dg = nx.DiGraph()\n",
    "dg.add_weighted_edges_from([(1,4,0.5), (3,1,0.75)]) # от кого — кому и вес ребра\n",
    "\n",
    "\n",
    "nx.write_gexf(dg, 'graph_file.gexf')"
   ]
  },
  {
   "cell_type": "code",
   "execution_count": 17,
   "metadata": {},
   "outputs": [
    {
     "name": "stdout",
     "output_type": "stream",
     "text": [
      "3\n",
      "2\n"
     ]
    }
   ],
   "source": [
    "print(dg.number_of_nodes())\n",
    "print(dg.number_of_edges())"
   ]
  },
  {
   "cell_type": "code",
   "execution_count": 19,
   "metadata": {},
   "outputs": [
    {
     "data": {
      "image/png": "[encoded data removed]",
      "text/plain": [
       "<Figure size 432x288 with 1 Axes>"
      ]
     },
     "metadata": {},
     "output_type": "display_data"
    }
   ],
   "source": [
    "import matplotlib.pyplot as plt\n",
    "from matplotlib import style\n",
    "\n",
    "def drawG(G_name):\n",
    "    style.use('ggplot') \n",
    "\n",
    "# для начала надо выбрать способ \"укладки\" графа. Их много, возьмём для начала такой:\n",
    "    pos=nx.spring_layout(G_name)\n",
    "\n",
    "    nx.draw_networkx_nodes(G_name, pos, node_color='red', node_size=50) # рисуем узлы красным цветом, задаём размер узла\n",
    "    nx.draw_networkx_edges(G_name, pos, edge_color='yellow') # рисуем рёбра жёлтым\n",
    "    plt.axis('off') # по умолчанию график будет снабжён осями с координатами, здесь они бессмысленны, так что отключаем\n",
    "    plt.show() # что получилось?\n",
    "    \n",
    "drawG(dg)"
   ]
  },
  {
   "cell_type": "code",
   "execution_count": null,
   "metadata": {},
   "outputs": [],
   "source": []
  },
  {
   "cell_type": "code",
   "execution_count": 15,
   "metadata": {},
   "outputs": [
    {
     "data": {
      "image/png": "[encoded data removed]",
      "text/plain": [
       "<Figure size 432x288 with 1 Axes>"
      ]
     },
     "metadata": {},
     "output_type": "display_data"
    }
   ],
   "source": [
    "import matplotlib.pyplot as plt\n",
    "from matplotlib import style\n",
    "style.use('ggplot') \n",
    "\n",
    "# для начала надо выбрать способ \"укладки\" графа. Их много, возьмём для начала такой:\n",
    "pos=nx.spring_layout(G)\n",
    "\n",
    "\n",
    "# То же, но добавим ещё подписи к узлам\n",
    "nx.draw_networkx_nodes(G, pos, node_color='red', node_size=10) \n",
    "nx.draw_networkx_edges(G, pos, edge_color='yellow')\n",
    "nx.draw_networkx_labels(G, pos, font_size=20, font_family='Arial')\n",
    "plt.axis('off') \n",
    "plt.show()"
   ]
  },
  {
   "cell_type": "code",
   "execution_count": null,
   "metadata": {},
   "outputs": [],
   "source": [
    "# Радиус графа, минимальный эксцентриситет среди всех вершин графа\n",
    "print(nx.radius(G))\n",
    "\n",
    "# Диаметр графа, самый длинный путь от одной вершины до другой\n",
    "print(nx.diameter(G))\n",
    "\n",
    "# Коэффициент ассортативности (насколько вся сеть завязана на основных \"хабах\"): с кем связаны важные=тяжелые узлы\n",
    "print(nx.degree_pearson_correlation_coefficient(G))\n",
    "\n",
    "# Плотность графа, отношение рёбер и узлов\n",
    "print(nx.density(G))"
   ]
  },
  {
   "cell_type": "code",
   "execution_count": 31,
   "metadata": {},
   "outputs": [],
   "source": [
    "import urllib.request\n",
    "import tarfile\n",
    "\n",
    "response = urllib.request.urlopen('http://www.adventist.kz/download/education/gom/_plungyan_v.a._-_obstchaya_morfologiya.rar')\n",
    "zipped = response.read()\n",
    "\n",
    "with open('_plungyan_v.a._-_obstchaya_morfologiya.rar', 'wb') as f:\n",
    "    f.write(zipped)"
   ]
  },
  {
   "cell_type": "code",
   "execution_count": 35,
   "metadata": {},
   "outputs": [
    {
     "ename": "ReadError",
     "evalue": "file could not be opened successfully",
     "output_type": "error",
     "traceback": [
      "\u001b[1;31m---------------------------------------------------------------------------\u001b[0m",
      "\u001b[1;31mReadError\u001b[0m                                 Traceback (most recent call last)",
      "\u001b[1;32m<ipython-input-35-c21edd8a0d88>\u001b[0m in \u001b[0;36m<module>\u001b[1;34m\u001b[0m\n\u001b[0;32m      1\u001b[0m \u001b[1;31m# распаковываем архив\u001b[0m\u001b[1;33m\u001b[0m\u001b[1;33m\u001b[0m\u001b[0m\n\u001b[1;32m----> 2\u001b[1;33m \u001b[0mtar\u001b[0m \u001b[1;33m=\u001b[0m \u001b[0mtarfile\u001b[0m\u001b[1;33m.\u001b[0m\u001b[0mopen\u001b[0m\u001b[1;33m(\u001b[0m\u001b[1;34m\"_plungyan_v.a._-_obstchaya_morfologiya.rar\"\u001b[0m\u001b[1;33m)\u001b[0m\u001b[1;33m\u001b[0m\u001b[0m\n\u001b[0m\u001b[0;32m      3\u001b[0m \u001b[0mtar\u001b[0m\u001b[1;33m.\u001b[0m\u001b[0mextractall\u001b[0m\u001b[1;33m(\u001b[0m\u001b[1;33m)\u001b[0m\u001b[1;33m\u001b[0m\u001b[0m\n\u001b[0;32m      4\u001b[0m \u001b[0mtar\u001b[0m\u001b[1;33m.\u001b[0m\u001b[0mclose\u001b[0m\u001b[1;33m(\u001b[0m\u001b[1;33m)\u001b[0m\u001b[1;33m\u001b[0m\u001b[0m\n\u001b[0;32m      5\u001b[0m \u001b[1;33m\u001b[0m\u001b[0m\n",
      "\u001b[1;32mc:\\users\\annap\\miniconda3\\lib\\tarfile.py\u001b[0m in \u001b[0;36mopen\u001b[1;34m(cls, name, mode, fileobj, bufsize, **kwargs)\u001b[0m\n\u001b[0;32m   1574\u001b[0m                         \u001b[0mfileobj\u001b[0m\u001b[1;33m.\u001b[0m\u001b[0mseek\u001b[0m\u001b[1;33m(\u001b[0m\u001b[0msaved_pos\u001b[0m\u001b[1;33m)\u001b[0m\u001b[1;33m\u001b[0m\u001b[0m\n\u001b[0;32m   1575\u001b[0m                     \u001b[1;32mcontinue\u001b[0m\u001b[1;33m\u001b[0m\u001b[0m\n\u001b[1;32m-> 1576\u001b[1;33m             \u001b[1;32mraise\u001b[0m \u001b[0mReadError\u001b[0m\u001b[1;33m(\u001b[0m\u001b[1;34m\"file could not be opened successfully\"\u001b[0m\u001b[1;33m)\u001b[0m\u001b[1;33m\u001b[0m\u001b[0m\n\u001b[0m\u001b[0;32m   1577\u001b[0m \u001b[1;33m\u001b[0m\u001b[0m\n\u001b[0;32m   1578\u001b[0m         \u001b[1;32melif\u001b[0m \u001b[1;34m\":\"\u001b[0m \u001b[1;32min\u001b[0m \u001b[0mmode\u001b[0m\u001b[1;33m:\u001b[0m\u001b[1;33m\u001b[0m\u001b[0m\n",
      "\u001b[1;31mReadError\u001b[0m: file could not be opened successfully"
     ]
    }
   ],
   "source": [
    "# # распаковываем архив\n",
    "# tar = tarfile.open(\"_plungyan_v.a._-_obstchaya_morfologiya.rar\")\n",
    "# tar.extractall()\n",
    "# tar.close()\n",
    "\n",
    "moprh_G = nx.Graph()\n",
    "\n",
    "# добавляем узлы и связи в граф\n",
    "with open('Плунгян - Общая морфология.doc') as unzipped:\n",
    "    for indx, line in enumerate(unzipped):\n",
    "        if indx:\n",
    "            line = line.strip()\n",
    "            node_1, node2 = line.split()\n",
    "            dolphin_G.add_edge(node_1, node2)"
   ]
  },
  {
   "cell_type": "code",
   "execution_count": 22,
   "metadata": {},
   "outputs": [
    {
     "name": "stdout",
     "output_type": "stream",
     "text": [
      "15 0.197\n",
      "38 0.18\n",
      "46 0.18\n",
      "34 0.164\n",
      "52 0.164\n",
      "18 0.148\n",
      "21 0.148\n",
      "30 0.148\n",
      "58 0.148\n",
      "14 0.131\n"
     ]
    }
   ],
   "source": [
    "# У этого графа кластерный коэффициент будет уже другим:\n",
    "print(nx.transitivity(dolphin_G))\n",
    "\n",
    "# главный дельфин\n",
    "deg_dolphin = nx.degree_centrality(dolphin_G)\n",
    "i = 0\n",
    "for nodeid in sorted(deg_dolphin, key=deg_dolphin.get, reverse=True):\n",
    "    i += 1\n",
    "    print(nodeid, round(deg_dolphin[nodeid], 3))\n",
    "    if i == 10:\n",
    "        break"
   ]
  },
  {
   "cell_type": "code",
   "execution_count": 29,
   "metadata": {},
   "outputs": [
    {
     "data": {
      "image/png": "[encoded data removed]",
      "text/plain": [
       "<Figure size 432x288 with 1 Axes>"
      ]
     },
     "metadata": {},
     "output_type": "display_data"
    }
   ],
   "source": [
    "pos = nx.spring_layout(dolphin_G)\n",
    "nx.draw_networkx_nodes(dolphin_G, pos, node_color='blue', node_size=1) \n",
    "nx.draw_networkx_edges(dolphin_G, pos, edge_color='green')\n",
    "nx.draw_networkx_labels(dolphin_G, pos, font_size=10, font_family='Arial')\n",
    "plt.axis('off') \n",
    "plt.show()"
   ]
  },
  {
   "cell_type": "code",
   "execution_count": 30,
   "metadata": {},
   "outputs": [
    {
     "name": "stdout",
     "output_type": "stream",
     "text": [
      "3\n"
     ]
    }
   ],
   "source": [
    "# Из графа можно извлечь подграф, где будут, например, только интересующие нас узлы:\n",
    "\n",
    "dolphins_sub = ['15', '38', '46']\n",
    "sub_G = dolphin_G.subgraph(dolphins_sub)\n",
    "print(sub_G.number_of_nodes())"
   ]
  },
  {
   "cell_type": "code",
   "execution_count": null,
   "metadata": {},
   "outputs": [],
   "source": [
    " список узлов и ребер со взвешенными связями\n",
    "    связь имеет минимальный вес 2\n",
    "    вес - то, сколько раз встречается слово на расстоянии\n",
    "    "
   ]
  },
  {
   "cell_type": "code",
   "execution_count": null,
   "metadata": {},
   "outputs": [],
   "source": [
    "задание:\n",
    "    plain text - сделано\n",
    "    существительные к словарной форме - лемматизируем и выбираем по регуляркам?\n",
    "    граф:\n",
    "        существительные связаны между собой в окне 3"
   ]
  },
  {
   "cell_type": "code",
   "execution_count": 47,
   "metadata": {},
   "outputs": [],
   "source": [
    "from pymystem3 import Mystem\n",
    "\n",
    "def analyze(thing):\n",
    "    m = Mystem()\n",
    "#     lemmas = []\n",
    "    with open(thing, encoding='utf-8') as f:\n",
    "        text = f.read()         \n",
    "    lemmas = m.analyze(text)\n",
    "#     lemmatized = ''.join(lemmas)\n",
    "    return lemmas\n",
    "#     print(text)\n",
    "    \n",
    "lemmatize('den_Hague.txt')"
   ]
  },
  {
   "cell_type": "code",
   "execution_count": 48,
   "metadata": {},
   "outputs": [
    {
     "ename": "TypeError",
     "evalue": "write() argument must be str, not list",
     "output_type": "error",
     "traceback": [
      "\u001b[1;31m---------------------------------------------------------------------------\u001b[0m",
      "\u001b[1;31mTypeError\u001b[0m                                 Traceback (most recent call last)",
      "\u001b[1;32m<ipython-input-48-33cbbcb5f6c4>\u001b[0m in \u001b[0;36m<module>\u001b[1;34m\u001b[0m\n\u001b[0;32m      1\u001b[0m \u001b[1;33m\u001b[0m\u001b[0m\n\u001b[0;32m      2\u001b[0m \u001b[1;32mwith\u001b[0m \u001b[0mopen\u001b[0m \u001b[1;33m(\u001b[0m\u001b[1;34m'output.txt'\u001b[0m\u001b[1;33m,\u001b[0m \u001b[1;34m'w'\u001b[0m\u001b[1;33m,\u001b[0m \u001b[0mencoding\u001b[0m\u001b[1;33m=\u001b[0m\u001b[1;34m'utf-8'\u001b[0m\u001b[1;33m)\u001b[0m \u001b[1;32mas\u001b[0m \u001b[0mf\u001b[0m\u001b[1;33m:\u001b[0m\u001b[1;33m\u001b[0m\u001b[0m\n\u001b[1;32m----> 3\u001b[1;33m     \u001b[0mf\u001b[0m\u001b[1;33m.\u001b[0m\u001b[0mwrite\u001b[0m\u001b[1;33m(\u001b[0m\u001b[0manalyze\u001b[0m\u001b[1;33m(\u001b[0m\u001b[1;34m'den_Hague.txt'\u001b[0m\u001b[1;33m)\u001b[0m\u001b[1;33m)\u001b[0m\u001b[1;33m\u001b[0m\u001b[0m\n\u001b[0m\u001b[0;32m      4\u001b[0m \u001b[1;33m\u001b[0m\u001b[0m\n\u001b[0;32m      5\u001b[0m \u001b[1;33m\u001b[0m\u001b[0m\n",
      "\u001b[1;31mTypeError\u001b[0m: write() argument must be str, not list"
     ]
    }
   ],
   "source": [
    "\n",
    "with open ('output.txt', 'w', encoding='utf-8') as f:\n",
    "    f.write(analyze('den_Hague.txt'))\n",
    "    \n",
    "    "
   ]
  },
  {
   "cell_type": "code",
   "execution_count": 59,
   "metadata": {},
   "outputs": [
    {
     "data": {
      "text/plain": [
       "0"
      ]
     },
     "execution_count": 59,
     "metadata": {},
     "output_type": "execute_result"
    }
   ],
   "source": [
    "# now we have all words in word{lemma=POS|...}\\n forma\n",
    "\n",
    "os.system(r\"C:\\Users\\annap\\mystem.exe \" + '-nigd' + ' ' + 'den_Hague.txt' + ' ' + 'output.txt')"
   ]
  },
  {
   "cell_type": "code",
   "execution_count": 62,
   "metadata": {},
   "outputs": [
    {
     "name": "stdout",
     "output_type": "stream",
     "text": [
      "['гааг', 'год', 'граф', 'голландия', 'флорис', 'замок', 'место', 'город', 'место', 'замок', 'комплекс', 'бинненхоф?', 'год', 'граф', 'голландия', 'вильгельм', 'себя', 'римский', 'король', 'замок', 'берег', 'озеро', 'придворный', 'пруд', 'нидерл?', 'смерть', 'вильгельм', 'сын', 'флорис', 'построение', 'замок', 'век', 'зал', 'нидерл?', 'крыша', 'башня', 'зал', 'деревня', 'право', 'то', 'гааг', 'резиденция', 'граф', 'город', 'голландия', 'то', 'гааг', 'город', 'крепость', 'время', 'война', 'город', 'гааг', 'штаб-квартира', 'время', 'осада', 'лейден', 'год', 'гааг', 'тысяча', 'житель', 'город', 'деревня', 'время', 'город', 'степень', 'самоуправление', 'граф', 'голландия', 'последник?', 'резиденция', 'год', 'гаага', 'орган', 'правительство', 'республика', 'провинция', 'штат', 'век', 'население', 'гаага', 'житель', 'век', 'принц', 'маурица?', 'канал', 'город', 'качество', 'начало', 'крепость', 'крепость', 'конец', 'век', 'население', 'житель', 'что', 'деревня', 'величина', 'поселение', 'голландия', 'амстердам', 'роттердам', 'то', 'гаага', 'дворец', 'статхаудер', 'штат', 'резиденция', 'посол', 'аристократ', 'деревня', 'город', 'контраст', 'район', 'зал', 'район', 'гаага', 'год', 'правление', 'гааг', 'право', 'век', 'стена', 'стеснение', 'выгода', 'крепость', 'город', 'гааг', 'год', 'год', 'гаага', 'человек', 'город', 'канал', 'век', 'население', 'начало', 'век', 'юг', 'центр', 'город', 'район', 'то', 'сторона', 'город', 'север', 'центр', 'район', 'гражданин']\n"
     ]
    }
   ],
   "source": [
    "import re\n",
    "\n",
    "doubles = []\n",
    "with open('output.txt', 'r', encoding='utf-8')as f:\n",
    "    for item in f:\n",
    "        noun = re.search('.+?{(.+?)=S', item)\n",
    "        if noun:\n",
    "            doubles.append(noun.group(1))\n",
    "# make peirs here and then into the graph"
   ]
  },
  {
   "cell_type": "code",
   "execution_count": null,
   "metadata": {},
   "outputs": [],
   "source": [
    "ходить по 3 до и 3 после:\n",
    "    к и-тому слову присоединяем слова, окружающие его \n",
    "try-except для краешков\n",
    "    если повторяется - увеличиваем вес "
   ]
  }
 ],
 "metadata": {
  "kernelspec": {
   "display_name": "Python 3",
   "language": "python",
   "name": "python3"
  },
  "language_info": {
   "codemirror_mode": {
    "name": "ipython",
    "version": 3
   },
   "file_extension": ".py",
   "mimetype": "text/x-python",
   "name": "python",
   "nbconvert_exporter": "python",
   "pygments_lexer": "ipython3",
   "version": "3.7.0"
  }
 },
 "nbformat": 4,
 "nbformat_minor": 2
}
