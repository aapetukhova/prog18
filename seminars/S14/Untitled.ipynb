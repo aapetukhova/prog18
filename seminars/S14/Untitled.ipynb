{
 "cells": [
  {
   "cell_type": "code",
   "execution_count": 37,
   "metadata": {},
   "outputs": [
    {
     "data": {
      "image/png": "[encoded data removed]",
      "text/plain": [
       "<Figure size 432x288 with 1 Axes>"
      ]
     },
     "metadata": {
      "needs_background": "light"
     },
     "output_type": "display_data"
    }
   ],
   "source": [
    "import urllib.request  \n",
    "import json\n",
    "import string\n",
    "import re\n",
    "import collections\n",
    "import matplotlib\n",
    "import matplotlib.pyplot as plt\n",
    "import os\n",
    "\n",
    "def getInfo():\n",
    "    req = urllib.request.Request('https://api.vk.com/method/wall.get?domain=esnhsemsk&v=5.92&access_token=3b4498373b4498373b449837893b2d5a9633b443b44983767eceaa69c02cdeb90d9da85') \n",
    "    response = urllib.request.urlopen(req) \n",
    "    result = response.read().decode('utf-8')\n",
    "    data = json.loads(result)\n",
    "    return data\n",
    "\n",
    "def dataToText(data):\n",
    "    with open('name.txt', 'w', encoding='utf-8') as f:\n",
    "        for item in data['response']['items']:\n",
    "            try:\n",
    "                f.write(item['text'])\n",
    "                f.write('\\n')\n",
    "            except: \n",
    "                pass  \n",
    "        \n",
    "def wordlistMaker():\n",
    "    with open('name.txt', 'r', encoding='utf-8') as f:\n",
    "        text = f.read().lower()\n",
    "        words = re.split(r'\\W+', text)\n",
    "    return words\n",
    "\n",
    "def stoplistMaker():\n",
    "    with open('stoplist.txt', 'r', encoding='utf-8') as f:\n",
    "        stoplist = f.read().split('\\n')\n",
    "        stoplist.append('https')\n",
    "        stoplist.append('vk')\n",
    "    return stoplist\n",
    "\n",
    "def finalListMaker(wordlist, stopwords):\n",
    "    final_list = [word for word in wordlist if not word in stopwords]\n",
    "    return final_list\n",
    "\n",
    "def plotMaker(X, Y, n):\n",
    "    x = X[:n]\n",
    "    y = Y[:n]\n",
    "    plt.title(\"most frequent words\")\n",
    "    plt.bar(x,y)\n",
    "    plt.xticks(x, rotation=90)\n",
    "    plt.show()\n",
    "    \n",
    "\n",
    "    \n",
    "def main():\n",
    "    X = []\n",
    "    Y = []\n",
    "    dataToText(getInfo())\n",
    "    # словарь частотностей\n",
    "    counter = collections.Counter(finalListMaker(wordlistMaker(), stoplistMaker()))\n",
    "    for key in sorted(counter, key=counter.get, reverse=True):\n",
    "        X.append(key)\n",
    "        Y.append(counter[key])\n",
    "    plotMaker(X, Y, 20)\n",
    "    \n",
    "if __name__ == '__main__':\n",
    "    main()\n",
    "    "
   ]
  },
  {
   "cell_type": "code",
   "execution_count": 42,
   "metadata": {},
   "outputs": [
    {
     "data": {
      "image/png": "[encoded data removed]",
      "text/plain": [
       "<Figure size 432x288 with 1 Axes>"
      ]
     },
     "metadata": {
      "needs_background": "light"
     },
     "output_type": "display_data"
    }
   ],
   "source": [
    "def lemmatized():\n",
    "    os.system(r\"C:\\Users\\annap\\mystem.exe \"  + '-clig --eng-gr ' + 'name.txt' + \" lemmatized.txt\")\n",
    "    wordsl = []\n",
    "    with open('lemmatized.txt', 'r', encoding='utf-8') as f:\n",
    "        text_l = f.read()\n",
    "#         части речи\n",
    "#         words = re.findall('[A-Z]+', text_l)    \n",
    "#     слова с лемматизацией\n",
    "        l_words = re.findall('[а-я]+', text_l)   \n",
    "    return l_words\n",
    "\n",
    "# lemmatized()\n",
    "def main():\n",
    "    X = []\n",
    "    Y = []\n",
    "#     stops = [] - для частей речи\n",
    "#     stops.append('HSE')\n",
    "#     stops.append('NRXRJ')\n",
    "    dataToText(getInfo())\n",
    "    # словарь частотностей\n",
    "    counter = collections.Counter(finalListMaker(lemmatized(), stoplistMaker()))\n",
    "    for key in sorted(counter, key=counter.get, reverse=True):\n",
    "        X.append(key)\n",
    "        Y.append(counter[key])\n",
    "    plotMaker(X, Y, 20)\n",
    "    \n",
    "if __name__ == '__main__':\n",
    "    main()\n"
   ]
  },
  {
   "cell_type": "code",
   "execution_count": 43,
   "metadata": {},
   "outputs": [
    {
     "ename": "ModuleNotFoundError",
     "evalue": "No module named 'plotly'",
     "output_type": "error",
     "traceback": [
      "\u001b[1;31m---------------------------------------------------------------------------\u001b[0m",
      "\u001b[1;31mModuleNotFoundError\u001b[0m                       Traceback (most recent call last)",
      "\u001b[1;32m<ipython-input-43-63b151d36cc5>\u001b[0m in \u001b[0;36m<module>\u001b[1;34m\u001b[0m\n\u001b[1;32m----> 1\u001b[1;33m \u001b[1;32mfrom\u001b[0m \u001b[0mplotly\u001b[0m\u001b[1;33m.\u001b[0m\u001b[0moffline\u001b[0m \u001b[1;32mimport\u001b[0m \u001b[0mdownload_plotlyjs\u001b[0m\u001b[1;33m,\u001b[0m \u001b[0minit_notebook_mode\u001b[0m\u001b[1;33m,\u001b[0m \u001b[0mplot\u001b[0m\u001b[1;33m,\u001b[0m \u001b[0miplot\u001b[0m\u001b[1;33m\u001b[0m\u001b[0m\n\u001b[0m\u001b[0;32m      2\u001b[0m \u001b[1;32mfrom\u001b[0m \u001b[0mplotly\u001b[0m \u001b[1;32mimport\u001b[0m \u001b[0mtools\u001b[0m\u001b[1;33m\u001b[0m\u001b[0m\n\u001b[0;32m      3\u001b[0m \u001b[1;32mimport\u001b[0m \u001b[0mplotly\u001b[0m\u001b[1;33m.\u001b[0m\u001b[0mplotly\u001b[0m \u001b[1;32mas\u001b[0m \u001b[0mpy\u001b[0m\u001b[1;33m\u001b[0m\u001b[0m\n\u001b[0;32m      4\u001b[0m \u001b[1;32mimport\u001b[0m \u001b[0mplotly\u001b[0m\u001b[1;33m.\u001b[0m\u001b[0mgraph_objs\u001b[0m \u001b[1;32mas\u001b[0m \u001b[0mgo\u001b[0m\u001b[1;33m\u001b[0m\u001b[0m\n\u001b[0;32m      5\u001b[0m \u001b[1;33m\u001b[0m\u001b[0m\n",
      "\u001b[1;31mModuleNotFoundError\u001b[0m: No module named 'plotly'"
     ]
    }
   ],
   "source": [
    "from plotly.offline import download_plotlyjs, init_notebook_mode, plot, iplot\n",
    "from plotly import tools\n",
    "import plotly.plotly as py\n",
    "import plotly.graph_objs as go\n",
    "\n",
    "# инциализация \n",
    "init_notebook_mode(connected=True)\n",
    "\n",
    "pl_colors = ['rgba'+str(col) for col in colors] # plotly хочет rgba-цвета в немного другом формате\n",
    "\n",
    "# данные для графика\n",
    "data = [go.Bar(\n",
    "            x = city_labs,\n",
    "            y = city_nums,\n",
    "            text = ['%.1f %%' % (num) for num in city_percent],  # текст при наведении (например, проценты)\n",
    "            marker = dict(color=pl_colors)\n",
    "    )]\n",
    "\n",
    "# описание \n",
    "layout = go.Layout(\n",
    "    title = 'Города в общежитии ВШЭ',\n",
    "    xaxis=dict(tickangle = -45),\n",
    "    yaxis = dict(title='Количество студентов')\n",
    ")\n",
    "\n",
    "# добавляем данные и описание на график\n",
    "fig = go.Figure(data=data, layout=layout)\n",
    "\n",
    "# рисуем график\n",
    "iplot(fig)"
   ]
  }
 ],
 "metadata": {
  "kernelspec": {
   "display_name": "Python 3",
   "language": "python",
   "name": "python3"
  },
  "language_info": {
   "codemirror_mode": {
    "name": "ipython",
    "version": 3
   },
   "file_extension": ".py",
   "mimetype": "text/x-python",
   "name": "python",
   "nbconvert_exporter": "python",
   "pygments_lexer": "ipython3",
   "version": "3.7.0"
  }
 },
 "nbformat": 4,
 "nbformat_minor": 2
}
