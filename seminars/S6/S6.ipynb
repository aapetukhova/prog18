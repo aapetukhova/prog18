{
 "cells": [
  {
   "cell_type": "code",
   "execution_count": null,
   "metadata": {},
   "outputs": [],
   "source": [
    "название газеты - год - месяц - файл с материалами\n",
    "path - относительный путь\n",
    "source - полный путь к газете на сайте\n",
    "\n",
    "со страницы - текст и мета-информация (через html)\n",
    "\n",
    "сохраняем слово - лемма(англ) - инф, снятая омонимия в одну строчку\n",
    "\n"
   ]
  },
  {
   "cell_type": "code",
   "execution_count": null,
   "metadata": {},
   "outputs": [],
   "source": [
    "country1: (capital, population)\n",
    "    \n",
    "country: France\n",
    "capital: Paris\n",
    "Population: 5478545\n",
    "    \n",
    "Country: Finland"
   ]
  },
  {
   "cell_type": "code",
   "execution_count": 3,
   "metadata": {},
   "outputs": [
    {
     "name": "stdout",
     "output_type": "stream",
     "text": [
      "Type a country: htdgjb\n",
      "Type the capital: dgjxkvl\n",
      "Type the population: 6532\n",
      "Type a country: hsdkbxjvl\n",
      "Type the capital: brskgjdlz\n",
      "Type the population: 852\n",
      "Type a country: gskjdzl\n",
      "Type the capital: ifsodjzlvck\n",
      "Type the population: 9865\n"
     ]
    }
   ],
   "source": [
    "def create_a_dict():\n",
    "    d ={}\n",
    "    for i in range(0, 3):\n",
    "        country = input('Type a country: ')\n",
    "        capital = input('Type the capital: ')\n",
    "        population = int(input('Type the population: '))\n",
    "        d[country] = [capital, population]\n",
    "    return d            \n",
    "r = create_a_dict()"
   ]
  },
  {
   "cell_type": "code",
   "execution_count": 17,
   "metadata": {},
   "outputs": [],
   "source": [
    "import os\n",
    "def folderation(d):\n",
    "    for key, value in d.items():\n",
    "        filename = 'hi.txt'\n",
    "        os.mkdir(key)\n",
    "        filepath = os.path.join(key, filename)\n",
    "        with open(filepath, 'x') as f:\n",
    "            f.write('%s, %s' %(value[0],value[1]))\n",
    "            \n",
    "folderation(r)\n",
    "            "
   ]
  },
  {
   "cell_type": "code",
   "execution_count": 30,
   "metadata": {},
   "outputs": [
    {
     "name": "stdout",
     "output_type": "stream",
     "text": [
      "Страна: spain\n",
      "Столица: madrid\n",
      "Население: 1234\n",
      "Страна: portugal\n",
      "Столица: lisbon\n",
      "Население: 655\n",
      "Страна: france\n",
      "Столица: paris\n",
      "Население: 7451\n"
     ]
    }
   ],
   "source": [
    "def d_output(d):\n",
    "    for key, values in d.items():\n",
    "        print('Страна: %s' %(key))\n",
    "        print('Столица: %s' %values[0])\n",
    "        print('Население: %d' %values[1])\n",
    "\n",
    "d_output(r)\n",
    "        "
   ]
  },
  {
   "cell_type": "code",
   "execution_count": 103,
   "metadata": {},
   "outputs": [
    {
     "name": "stdout",
     "output_type": "stream",
     "text": [
      "Заголовок статьи: Колонка мэра от 14 августа 2015\n",
      "Автор публикации: Айсен Николаев\n",
      "Время публикации: 14 августа  2015 г\n"
     ]
    }
   ],
   "source": [
    "import re\n",
    "import urllib.request\n",
    "from bs4 import BeautifulSoup\n",
    "\n",
    "def meta_search():\n",
    "    link = 'http://www.vecherniy.com/wall?id=105'\n",
    "    result = urllib.request.urlopen(link)\n",
    "    myfile = result.read()\n",
    "    soup = BeautifulSoup(myfile, 'html.parser')\n",
    "# заголовок\n",
    "    print('Заголовок статьи:', soup.find('div', {'class': 'f26'}).get_text())\n",
    "#         print('-'*64)\n",
    "# текст\n",
    "#         print(post.find('div', {'class': 't_jus'}))\n",
    "# автор, дата\n",
    "    footer = soup.find('div', {'id':'vnizu_a_n_v'})\n",
    "    children = footer.findChildren('div')\n",
    "    authorLine = str(children[0])\n",
    "#     print(authorLine)\n",
    "    dateLine = str(children[1])\n",
    "# автор\n",
    "    author = re.search('Автор: (.*?)((\\.(.*?))|())</div>', authorLine)\n",
    "    if author:\n",
    "        print('Автор публикации:', author.group(1))\n",
    "        \n",
    "#         дата\n",
    "    date = re.search('Время: (.*?)</div>', dateLine)\n",
    "    if date:\n",
    "        print('Время публикации:', date.group(1))\n",
    "\n",
    "meta_search()\n",
    "#можно искать по id...\n",
    "    "
   ]
  },
  {
   "cell_type": "code",
   "execution_count": 31,
   "metadata": {},
   "outputs": [],
   "source": [
    "import os\n",
    "# os.mkdir('a')\n",
    "\n",
    "dirpath = os.path.join('plain', 'year1', 'month1')\n",
    "if not os.path.exists(dirpath):\n",
    "    os.makedirs(dirpath)\n",
    "else:\n",
    "    intDP = os.path.join('plain', 'year1', 'month2')\n",
    "    if not os.path.exists(intDP):\n",
    "        os.makedirs(intDP)\n",
    "        i = 0\n",
    "        filename = 'article' + str(i) + '.txt'\n",
    "        filepath = os.path.join(intDP, filename)\n",
    "        with open(filepath, 'x') as f:\n",
    "            f.write('hey ho')\n",
    "        i += 1\n",
    "    else:        \n",
    "        filename = 'article' + str(i) + '.txt'\n",
    "        filepath = os.path.join(intDP, filename)\n",
    "        with open(filepath, 'x') as f:\n",
    "            f.write('hey ho')\n",
    "            \n",
    "        \n",
    "        \n",
    "        \n",
    "    \n",
    "    \n",
    "#     intDirPath = os.path.join('a', 'd', 'f')\n",
    "#     os.mkdir(intDirPath1)\n",
    "# os.makedirs(dirpath)\n",
    "# i = 0\n",
    "# filename = 'article' + str(i) + '.txt'\n",
    "# filepath = os.path.join(dirpath, filename)\n",
    "# with open(filepath, 'x') as f:\n",
    "#     f.write('hey ho')\n",
    "\n",
    "# os.makedirs(dirpath)"
   ]
  },
  {
   "cell_type": "code",
   "execution_count": 8,
   "metadata": {},
   "outputs": [],
   "source": [
    "from lxml import etree\n",
    "\n",
    "root = etree.Element('root')\n",
    "hello = 'hello'\n",
    "root.text = hello\n",
    "child1 = etree.SubElement(root, 'child1')\n",
    "child1.text = 'world'\n",
    "# print(root.text)\n",
    "filename = 'hih.xml'\n",
    "with open(filename, 'w', encoding='utf-8') as f:\n",
    "    f.write(root.text)\n",
    "    f.write(child1.text)\n"
   ]
  },
  {
   "cell_type": "code",
   "execution_count": 3,
   "metadata": {},
   "outputs": [
    {
     "name": "stdout",
     "output_type": "stream",
     "text": [
      "fuck off\n",
      "['0', 'hi']\n"
     ]
    }
   ],
   "source": [
    "\n",
    "for i in range (1, 5):\n",
    "    if not i != 1:\n",
    "        print('fuck off')\n",
    "    else:\n",
    "        s.append('hi')\n",
    "print(s)"
   ]
  },
  {
   "cell_type": "code",
   "execution_count": 2,
   "metadata": {},
   "outputs": [
    {
     "name": "stdout",
     "output_type": "stream",
     "text": [
      "{}\t{}\t{}\t{}\tпублицистика\tNone\tнейтральный\tн-возраст\tн-уровень\tгородская\t{}\t\"Якутск вечерний\"\t{}\tгазета\tРоссия\tРеспублика Саха (Якутия)\tru\n"
     ]
    }
   ],
   "source": [
    "print('{}\\t{}\\t{}\\t{}\\tпублицистика\\tNone\\tнейтральный\\tн-возраст\\tн-уровень\\tгородская\\t{}\\t\"Якутск вечерний\"\\t{}\\tгазета\\tРоссия\\tРеспублика Саха (Якутия)\\tru')"
   ]
  },
  {
   "cell_type": "code",
   "execution_count": null,
   "metadata": {},
   "outputs": [],
   "source": []
  }
 ],
 "metadata": {
  "kernelspec": {
   "display_name": "Python 3",
   "language": "python",
   "name": "python3"
  },
  "language_info": {
   "codemirror_mode": {
    "name": "ipython",
    "version": 3
   },
   "file_extension": ".py",
   "mimetype": "text/x-python",
   "name": "python",
   "nbconvert_exporter": "python",
   "pygments_lexer": "ipython3",
   "version": "3.7.0"
  }
 },
 "nbformat": 4,
 "nbformat_minor": 2
}
