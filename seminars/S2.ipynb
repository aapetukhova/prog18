{
 "cells": [
  {
   "cell_type": "code",
   "execution_count": 3,
   "metadata": {},
   "outputs": [
    {
     "name": "stdout",
     "output_type": "stream",
     "text": [
      "{'parrot', 'elephant', 'dog'}\n"
     ]
    }
   ],
   "source": [
    "# a = set([1, 2, 3, 4, 5, 6])\n",
    "# b = set([4, 5, 6, 7, 8, 9])\n",
    "\n",
    "# # объединение\n",
    "# c = a | b\n",
    "# print(c)\n",
    "\n",
    "# # пересечение\n",
    "# d = a & b\n",
    "# print(d)\n",
    "\n",
    "# # разность\n",
    "# e = a - b\n",
    "# print(e)\n",
    "\n",
    "# # симметрическая разность, то есть элементы, входящие в a или в b, но не в оба множества одновременно\n",
    "# f = a ^ b\n",
    "# print(f)\n",
    "\n",
    "a = set(['dog', 'cat', 'elephant'])\n",
    "b = set(['cat', 'parrot'])\n",
    "\n",
    "c = a ^ b\n",
    "print(c)"
   ]
  },
  {
   "cell_type": "code",
   "execution_count": 31,
   "metadata": {},
   "outputs": [
    {
     "name": "stdout",
     "output_type": "stream",
     "text": [
      "Пересечение:  {'не', 'за', 'а', 'на', 'в', 'без', 'и'}\n",
      "Симметрическая разность:  {'сам', 'мы', 'притчей', 'конце', 'упиваюсь', 'знаменитым', 'прохожу', 'тебя', 'вечно', 'вечной', 'творчества', 'тумане', 'жизни', 'расстались', 'нашёл', 'победы', 'видать', 'быть', 'вереница', 'изысканной', 'тобой', 'как', 'ищу', 'так', 'целой', 'когда', 'ней', 'я', 'только', 'сладости', 'разошлись', 'прятать', 'восторгов', 'концов', 'должен', 'привлечь', 'наступят', 'разлукою', 'родник', 'любовь', 'ты', 'минут', 'живому', 'вновь', 'сколько', 'о', 'устах', 'пробелы', 'напевы', 'долькой', 'к', 'будущего', 'от', 'но', 'окунаться', 'ничего', 'услышать', 'грани', 'единой', 'жить', 'это', 'пядью', 'отчеркивая', 'эти', 'сердце', 'оставлять', 'ночь', 'повторяю', 'пройдут', 'цель', 'мукой', 'подымает', 'с', 'есть', 'до', 'тайной', 'свои', 'сойдёмся', 'светлая', 'надо', 'мечты', 'восторгами', 'прячется', 'что', 'мысль', 'по', 'будем', 'среди', 'места', 'заводить', 'муке', 'пораженья', 'над', 'у', 'пред', 'главы', 'тротуары', 'всё', 'твой', 'прозрачная', 'стелет', 'восторга', 'тихая', 'рукописями', 'ни', 'чтобы', 'связи', 'себе', 'следу', 'путь', 'живым', 'другие', 'нами', 'силах', 'отступаться', 'эта', 'убегаю', 'неясно', 'меж', 'этой'}\n"
     ]
    }
   ],
   "source": [
    "from string import punctuation\n",
    "# from pprint import pprint as pp\n",
    "\n",
    "def file(filename):\n",
    "    with open(filename, encoding='utf-8') as f:\n",
    "        text = f.read()\n",
    "        d =[]\n",
    "#         symbols = '.,/?!@#$%^&*\\\\:;-'\"\"'\n",
    "        for word in text.split():\n",
    "            if word.isalpha():\n",
    "                d.append(word.lower().strip(punctuation))\n",
    "#            for word in words:\n",
    "#                 d.append(word)               \n",
    "    return d\n",
    "\n",
    "def mn(slova):\n",
    "    m = set(slova)\n",
    "    return m\n",
    "\n",
    "def main():\n",
    "    p = mn(file('pasternak.txt'))\n",
    "    b = mn(file('bryusov.txt'))\n",
    "    per = p & b\n",
    "    print('Пересечение: ', per)\n",
    "    simm = p ^ b\n",
    "    print('Симметрическая разность: ', simm)\n",
    "    \n",
    "if __name__ == '__main__':\n",
    "    main()\n",
    "    "
   ]
  },
  {
   "cell_type": "code",
   "execution_count": 10,
   "metadata": {},
   "outputs": [
    {
     "name": "stdout",
     "output_type": "stream",
     "text": [
      "Введите имя: Dan\n",
      "Такого имени нет, введите номер: 8945612\n",
      "8945612\n",
      "{'Alex': 15654, 'Sam': 564152, 'Inna': 684585}\n"
     ]
    }
   ],
   "source": [
    "    \n",
    "d = {'Alex': 15654, 'Sam': 564152, 'Inna': 684585} \n",
    "print(d.get(input('Введите имя: '), int(input('Такого имени нет, введите номер: '))))\n",
    "print(d)\n",
    "\n",
    "    \n",
    "\n",
    "    \n",
    "    \n",
    "\n",
    "    "
   ]
  },
  {
   "cell_type": "code",
   "execution_count": 12,
   "metadata": {},
   "outputs": [
    {
     "name": "stdout",
     "output_type": "stream",
     "text": [
      "Введите имя: Ann\n",
      "Введите год рождения: 1999\n",
      "{'Alex': 15654, 'Sam': 564152, 'Inna': 684585, 'Ann': 1999}\n"
     ]
    }
   ],
   "source": [
    "d = {'Alex': 15654, 'Sam': 564152, 'Inna': 684585}\n",
    "name = input(\"Введите имя: \")\n",
    "\n",
    "d[name] = d.get(name, int(input(\"Введите год рождения: \")))\n",
    "\n",
    "print(d)"
   ]
  }
 ],
 "metadata": {
  "kernelspec": {
   "display_name": "Python 3",
   "language": "python",
   "name": "python3"
  },
  "language_info": {
   "codemirror_mode": {
    "name": "ipython",
    "version": 3
   },
   "file_extension": ".py",
   "mimetype": "text/x-python",
   "name": "python",
   "nbconvert_exporter": "python",
   "pygments_lexer": "ipython3",
   "version": "3.7.0"
  }
 },
 "nbformat": 4,
 "nbformat_minor": 2
}
