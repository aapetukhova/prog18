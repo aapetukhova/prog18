{
 "cells": [
  {
   "cell_type": "code",
   "execution_count": 12,
   "metadata": {},
   "outputs": [],
   "source": [
    "import sqlite3\n",
    "import csv\n",
    "# подключаемся к базе данных\n",
    "conn = sqlite3.connect('nanai_vowels.db')\n",
    "\n",
    "# создаем объект \"курсор\", которому будем передавать запросы\n",
    "c = conn.cursor()\n",
    "\n",
    "# создаем таблицу\n",
    "# c.execute(\"CREATE TABLE nanai_vowels(dictor text, sex text, village text, sound text, f1 float, f2 float)\")\n",
    "\n",
    "# читаем фацл с гласными\n",
    "with open('nanai-vowels.csv', encoding='utf-8') as csvfile:\n",
    "    filereader = csv.reader(csvfile, delimiter=';', quotechar='|')\n",
    "    r1 = next(filereader)\n",
    "    for row in filereader:\n",
    "        r = row\n",
    "        # вставляем строку\n",
    "        c.execute(\"INSERT INTO nanai_vowels VALUES (?, ?, ?, ?, ?, ?)\", r)\n",
    "\n",
    "# сохраняем изменения\n",
    "conn.commit()\n",
    "\n",
    "# отключаемся от БД\n",
    "conn.close()"
   ]
  },
  {
   "cell_type": "code",
   "execution_count": 13,
   "metadata": {},
   "outputs": [],
   "source": []
  },
  {
   "cell_type": "code",
   "execution_count": null,
   "metadata": {},
   "outputs": [],
   "source": []
  }
 ],
 "metadata": {
  "kernelspec": {
   "display_name": "Python 3",
   "language": "python",
   "name": "python3"
  },
  "language_info": {
   "codemirror_mode": {
    "name": "ipython",
    "version": 3
   },
   "file_extension": ".py",
   "mimetype": "text/x-python",
   "name": "python",
   "nbconvert_exporter": "python",
   "pygments_lexer": "ipython3",
   "version": "3.7.0"
  }
 },
 "nbformat": 4,
 "nbformat_minor": 2
}
