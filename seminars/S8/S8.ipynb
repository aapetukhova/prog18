{
 "cells": [
  {
   "cell_type": "code",
   "execution_count": 2,
   "metadata": {},
   "outputs": [
    {
     "name": "stdout",
     "output_type": "stream",
     "text": [
      " * Serving Flask app \"__main__\" (lazy loading)\n",
      " * Environment: production\n",
      "   WARNING: Do not use the development server in a production environment.\n",
      "   Use a production WSGI server instead.\n",
      " * Debug mode: on\n"
     ]
    },
    {
     "name": "stderr",
     "output_type": "stream",
     "text": [
      " * Restarting with stat\n"
     ]
    },
    {
     "ename": "SystemExit",
     "evalue": "1",
     "output_type": "error",
     "traceback": [
      "An exception has occurred, use %tb to see the full traceback.\n",
      "\u001b[1;31mSystemExit\u001b[0m\u001b[1;31m:\u001b[0m 1\n"
     ]
    },
    {
     "name": "stderr",
     "output_type": "stream",
     "text": [
      "c:\\users\\annap\\miniconda3\\lib\\site-packages\\IPython\\core\\interactiveshell.py:2969: UserWarning: To exit: use 'exit', 'quit', or Ctrl-D.\n",
      "  warn(\"To exit: use 'exit', 'quit', or Ctrl-D.\", stacklevel=1)\n"
     ]
    }
   ],
   "source": [
    "from flask import Flask, render_template\n",
    "import datetime\n",
    "app = Flask(__name__)\n",
    "\n",
    "# def index():\n",
    "#     return '<html><body><p>Hello, world!</p></body></html>'\n",
    "# @app.route('/')\n",
    "# def index():\n",
    "#     return 'Main page'\n",
    "\n",
    "# @app.route('/hi')\n",
    "# def hi():\n",
    "#     return 'Hi!'\n",
    "\n",
    "# @app.route('/user/<user>')\n",
    "# def user_index(user):\n",
    "#     return 'This is the page of ' + user\n",
    "# @app.route('/time/<int:shift>')\n",
    "# def time_page(shift):\n",
    "#     h = datetime.datetime.today().hour\n",
    "#     h += shift\n",
    "#     return 'Time in your country:' + str(h)\n",
    "\n",
    "@app.route('/hello/')\n",
    "@app.route('/hello/<name>')\n",
    "def hello(name=None):\n",
    "    return render_template('hello.html', name=name)\n",
    "\n",
    "\n",
    "if __name__ == '__main__':\n",
    "    app.run(debug=True)\n"
   ]
  },
  {
   "cell_type": "code",
   "execution_count": null,
   "metadata": {},
   "outputs": [],
   "source": [
    "from flask import render_template, Flask\n",
    "\n",
    "\n",
    "app = Flask(__name__)\n",
    "@app.route('/index/')\n",
    "@app.route('/index/<name>')\n",
    "def hello(name=None):\n",
    "    return render_template('index.html', name=name)"
   ]
  },
  {
   "cell_type": "code",
   "execution_count": null,
   "metadata": {},
   "outputs": [],
   "source": [
    "from flask import render_template, Flask\n",
    "\n",
    "app = Flask(__name__)\n",
    "@app.route('/hello/')\n",
    "@app.route('/hello/<name>')\n",
    "def hello(name=None):\n",
    "    return render_template('hello.html', name=name)"
   ]
  },
  {
   "cell_type": "code",
   "execution_count": null,
   "metadata": {},
   "outputs": [],
   "source": [
    "from flask import  Flask\n",
    "\n",
    "app = Flask(__name__)\n",
    "@app.route('/<username>')\n",
    "def profile(username):\n",
    "    return '{}\\'s profile'.format(username)"
   ]
  },
  {
   "cell_type": "code",
   "execution_count": null,
   "metadata": {},
   "outputs": [],
   "source": [
    "from flask import Flask\n",
    "app = Flask(__name__)\n",
    "\n",
    "\n",
    "@app.route('/hi')\n",
    "\n",
    "@app.route('/hi/<user>')\n",
    "\n",
    "def hi(user=None):\n",
    "\n",
    "    if user is None:\n",
    "\n",
    "        user = 'friend'\n",
    "\n",
    "    return '<html><body><p>Привет, ' + user + '!</p></body></html>'\n",
    "\n",
    "if __name__ == '__main__':\n",
    "    app.run(debug=True)"
   ]
  },
  {
   "cell_type": "code",
   "execution_count": null,
   "metadata": {},
   "outputs": [],
   "source": []
  }
 ],
 "metadata": {
  "kernelspec": {
   "display_name": "Python 3",
   "language": "python",
   "name": "python3"
  }
 },
 "nbformat": 4,
 "nbformat_minor": 2
}
