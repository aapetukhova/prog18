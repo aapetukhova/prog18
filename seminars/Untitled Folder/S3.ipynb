{
 "cells": [
  {
   "cell_type": "code",
   "execution_count": 79,
   "metadata": {},
   "outputs": [],
   "source": [
    "import json\n",
    "import urllib.request\n",
    "\n",
    "def danniye(u):\n",
    "#     user = \"whyisjake\"  # пользователь, про которого мы хотим что-то узнать\n",
    "    \n",
    " # по этой ссылке мы будем доставать джейсон, попробуйте вставить ссылку в браузер и посмотреть, что там\n",
    "    token = '4a7672e60547c41c5b62c353d539ee0117f26191'\n",
    "    url = 'https://api.github.com/users/%s/repos?access_token=%s' %( u, token)\n",
    "#     headers = {'apikey': 'token %s' % token}\n",
    "\n",
    "#     request = urllib.request.Request(url, headers=headers) # тут передаем токен\n",
    "#     response = urllib.request.urlopen(request)\n",
    "\n",
    "    response = urllib.request.urlopen(url)  # посылаем серверу запрос и достаем ответ\n",
    "    text = response.read().decode('utf-8')  # читаем ответ в строку\n",
    "    data = json.loads(text) # превращаем джейсон-строку в объекты питона\n",
    "    return data\n",
    "\n",
    "\n",
    "\n",
    "# print(len(data))  # можно распечатать, сколько у пользователя репозиториев\n",
    "# for i in data:\n",
    "#     print(i[\"name\"]) # и распечатать названия всех репозиториев"
   ]
  },
  {
   "cell_type": "code",
   "execution_count": 8,
   "metadata": {},
   "outputs": [
    {
     "name": "stdout",
     "output_type": "stream",
     "text": [
      "alpha-brand-lab :  Collection of static sites and pages that live within the Alpha collection\n",
      "altrablog :  None\n",
      "amp-wp :  WordPress plugin for adding AMP support\n",
      "arduino_robot :  Build a mind controlled Arduino Robot\n",
      "Autism-Spectrum-Quotient :  Psychologist Simon Baron-Cohen and his colleagues at Cambridge’s Autism Research Centre have created the Autism-Spectrum Quotient, or AQ, as a measure of the extent of autistic traits in adults. In the first major trial using the test, the average score in the control group was 16.4. Eighty percent of those diagnosed with autism or a related disorder scored 32 or higher. The test is not a means for making a diagnosis, however, and many who score above 32 and even meet the diagnostic criteria for mild autism or Asperger’s report no difficulty functioning in their everyday lives.\n",
      "awesome-geek-podcasts :  A curated list of podcasts we like to listen to\n",
      "Backyard-Lens :  Radiant Poetry\n",
      "baker :  The HTML5 ebook framework to publish interactive books & magazines on iPad & iPhone using simply open web standards \n",
      "Barebone-Wordpress-Metabox :  Add extra meta information the easy way with a meta box in your wordpress posts.\n",
      "Blink :  BI Dashboard on Arduino\n",
      "Bootstrap :  The Bootstrap Book\n",
      "bootstrap-1 :  Sleek, intuitive, and powerful front-end framework for faster and easier web development.\n",
      "bootstrapped :  Bootstrapped WordPress Theme\n",
      "CES-Letter :  HTML version of the CES Letter, by Jeremy Runnels.\n",
      "Co-Authors-Plus :  Multiple bylines and Guest Authors for WordPress\n",
      "contextly-plugin-wordpress :  Contextly Wordpress Plugin\n",
      "DANGER- :  None\n",
      "dash :  Simple function for adding Dash Analytics to you site. Could be used on the front end showing trending, popular, and most shared posts.\n",
      "debug-bar-post-meta :  Adds a panel to debug bar that displays all post meta.\n",
      "developer :  In your WordPress, developing locally\n",
      "disqus-wordpress :  WordPress integration for DISQUS\n",
      "dotfiles :  None\n",
      "Drafts-for-Friends :  None\n",
      "Employee-Portfolio :  None\n",
      "fieldmanager-demos :  A WordPress Plugin used for demonstrating Fieldmanager\n",
      "flying-goat :  Flying Goat Coffee WordPress theme\n",
      "Forest-Group :  Sonoma County Forest Conservation Work Group\n",
      "Front-end-Developer-Interview-Questions :  A list of questions you can use to help interview potential candidates for a front-end development position.\n",
      "gear :  None\n",
      "get_image :  Get all of the images for the signs for Maker Faire.\n"
     ]
    }
   ],
   "source": [
    "# def getting_info_repos(data):\n",
    "#     r = []\n",
    "#     for i in data:\n",
    "# #         names = data.setdefault(, [])\n",
    "# #         defs = names.setdefault\n",
    "#         r.append(i['name'])\n",
    "#     return r\n",
    "        \n",
    "# def getting_info_dess(data):\n",
    "#     d = []\n",
    "#     for i in data:\n",
    "#         d.append(i['description'])\n",
    "#     return d\n",
    "\n",
    "# def out(r, d):\n",
    "#     for i in range(0, len(r)):\n",
    "#         print( r[i], ':', d[i])\n",
    "    \n",
    "    \n",
    "    \n",
    "    \n",
    "# #         print(i['name'])\n",
    "    \n",
    "# # getting_info_repos(danniye())\n",
    "# out(getting_info_repos(danniye()), getting_info_dess(danniye()))\n",
    "\n",
    "# # as a dictionary:\n",
    "\n",
    "# #         s = dict(i['name'] = i['description'])\n",
    "        \n",
    "    "
   ]
  },
  {
   "cell_type": "code",
   "execution_count": 16,
   "metadata": {},
   "outputs": [
    {
     "name": "stdout",
     "output_type": "stream",
     "text": [
      "30\n"
     ]
    }
   ],
   "source": [
    "def getting_info(data):\n",
    "    d = {}\n",
    "    print(len(data))\n",
    "    for i in data:\n",
    "        d[i['name']] = i['description']\n",
    "    for key, value in d.items():#+ форматирование строк!!!!\n",
    "        print(key, end='', ':', value) \n",
    " \n",
    "\n",
    "getting_info(danniye())"
   ]
  },
  {
   "cell_type": "code",
   "execution_count": 77,
   "metadata": {
    "scrolled": false
   },
   "outputs": [
    {
     "name": "stdout",
     "output_type": "stream",
     "text": [
      "CSS : ['alpha-brand-lab', 'flying-goat']\n",
      "PHP : ['altrablog', 'amp-wp', 'Barebone-Wordpress-Metabox', 'Co-Authors-Plus', 'dash', 'debug-bar-post-meta', 'developer', 'disqus-wordpress', 'Drafts-for-Friends', 'fieldmanager-demos', 'gear', 'get_image']\n",
      "None : ['arduino_robot', 'awesome-geek-podcasts', 'Backyard-Lens', 'CES-Letter', 'DANGER-', 'Employee-Portfolio', 'Front-end-Developer-Interview-Questions']\n",
      "JavaScript : ['Autism-Spectrum-Quotient', 'bootstrap-1', 'bootstrapped', 'contextly-plugin-wordpress', 'Forest-Group']\n",
      "Objective-C : ['baker']\n",
      "Arduino : ['Blink']\n",
      "HTML : ['Bootstrap']\n",
      "Shell : ['dotfiles']\n"
     ]
    }
   ],
   "source": [
    "import collections\n",
    "def getting_language(data):\n",
    "#     key - language, value - number\n",
    "    d = {}\n",
    "    for i in data:\n",
    "        key = i['language']#словарь, где язык - ключ, реп - значение\n",
    "        d.setdefault(key, []) \n",
    "        d[key].append(i['name'])\n",
    "    for key, value in d.items():#+ форматирование строк!!!!\n",
    "        print(key, ':', value) \n",
    "#         spisok.append(i['language'])\n",
    "#     counter = collections.Counter(spisok)\n",
    "#     for key, value in counter.items():\n",
    "#         print(key, ':', value)\n",
    "        \n",
    "getting_language(danniye())\n",
    "        \n",
    "        "
   ]
  },
  {
   "cell_type": "code",
   "execution_count": 17,
   "metadata": {},
   "outputs": [
    {
     "ename": "SyntaxError",
     "evalue": "unexpected EOF while parsing (<ipython-input-17-e093a1ffcf88>, line 1)",
     "output_type": "error",
     "traceback": [
      "\u001b[1;36m  File \u001b[1;32m\"<ipython-input-17-e093a1ffcf88>\"\u001b[1;36m, line \u001b[1;32m1\u001b[0m\n\u001b[1;33m    def counting_repos():\u001b[0m\n\u001b[1;37m                         ^\u001b[0m\n\u001b[1;31mSyntaxError\u001b[0m\u001b[1;31m:\u001b[0m unexpected EOF while parsing\n"
     ]
    }
   ],
   "source": [
    "\n",
    "    "
   ]
  },
  {
   "cell_type": "code",
   "execution_count": 78,
   "metadata": {},
   "outputs": [
    {
     "ename": "NameError",
     "evalue": "name 'get_data' is not defined",
     "output_type": "error",
     "traceback": [
      "\u001b[1;31m---------------------------------------------------------------------------\u001b[0m",
      "\u001b[1;31mNameError\u001b[0m                                 Traceback (most recent call last)",
      "\u001b[1;32m<ipython-input-78-df5c4f5ad095>\u001b[0m in \u001b[0;36m<module>\u001b[1;34m()\u001b[0m\n\u001b[0;32m     18\u001b[0m             \u001b[0md\u001b[0m\u001b[1;33m[\u001b[0m\u001b[0mkey\u001b[0m\u001b[1;33m]\u001b[0m\u001b[1;33m.\u001b[0m\u001b[0mappend\u001b[0m\u001b[1;33m(\u001b[0m\u001b[0mlen\u001b[0m\u001b[1;33m(\u001b[0m\u001b[0mdata\u001b[0m\u001b[1;33m)\u001b[0m\u001b[1;33m)\u001b[0m\u001b[1;33m\u001b[0m\u001b[0m\n\u001b[0;32m     19\u001b[0m     \u001b[0mmax\u001b[0m \u001b[1;33m=\u001b[0m \u001b[1;33m(\u001b[0m\u001b[0mmax\u001b[0m\u001b[1;33m(\u001b[0m\u001b[0md\u001b[0m\u001b[1;33m.\u001b[0m\u001b[0mvalues\u001b[0m\u001b[1;33m(\u001b[0m\u001b[1;33m)\u001b[0m\u001b[1;33m)\u001b[0m\u001b[1;33m)\u001b[0m\u001b[1;33m\u001b[0m\u001b[0m\n\u001b[1;32m---> 20\u001b[1;33m \u001b[0mcounting_repos\u001b[0m\u001b[1;33m(\u001b[0m\u001b[1;33m)\u001b[0m\u001b[1;33m\u001b[0m\u001b[0m\n\u001b[0m\u001b[0;32m     21\u001b[0m \u001b[1;31m# немного тупенькая, вывод имени, если одинаковое количество рапозиториев\u001b[0m\u001b[1;33m\u001b[0m\u001b[1;33m\u001b[0m\u001b[0m\n\u001b[0;32m     22\u001b[0m \u001b[1;33m\u001b[0m\u001b[0m\n",
      "\u001b[1;32m<ipython-input-78-df5c4f5ad095>\u001b[0m in \u001b[0;36mcounting_repos\u001b[1;34m()\u001b[0m\n\u001b[0;32m     12\u001b[0m     \u001b[0md\u001b[0m \u001b[1;33m=\u001b[0m \u001b[1;33m{\u001b[0m\u001b[1;33m}\u001b[0m\u001b[1;33m\u001b[0m\u001b[0m\n\u001b[0;32m     13\u001b[0m     \u001b[1;32mfor\u001b[0m \u001b[0muser\u001b[0m \u001b[1;32min\u001b[0m \u001b[0musers\u001b[0m\u001b[1;33m:\u001b[0m \u001b[1;31m#внешне нужно прописать пользователей!!!\u001b[0m\u001b[1;33m\u001b[0m\u001b[0m\n\u001b[1;32m---> 14\u001b[1;33m         \u001b[0mdata\u001b[0m \u001b[1;33m=\u001b[0m \u001b[0mget_data\u001b[0m\u001b[1;33m(\u001b[0m\u001b[0muser\u001b[0m\u001b[1;33m,\u001b[0m \u001b[1;34m'repos'\u001b[0m\u001b[1;33m)\u001b[0m\u001b[1;33m\u001b[0m\u001b[0m\n\u001b[0m\u001b[0;32m     15\u001b[0m         \u001b[1;32mfor\u001b[0m \u001b[0mi\u001b[0m \u001b[1;32min\u001b[0m \u001b[0mdata\u001b[0m\u001b[1;33m:\u001b[0m\u001b[1;33m\u001b[0m\u001b[0m\n\u001b[0;32m     16\u001b[0m             \u001b[0mkey\u001b[0m \u001b[1;33m=\u001b[0m \u001b[0muser\u001b[0m\u001b[1;33m\u001b[0m\u001b[0m\n",
      "\u001b[1;31mNameError\u001b[0m: name 'get_data' is not defined"
     ]
    }
   ],
   "source": [
    "users = ['elmiram', 'maryszmary', 'lizaku', 'ancatmara', 'roctbb']\n",
    "def counting_repos():\n",
    "#     max = 0\n",
    "#     for user in users:\n",
    "#         print(user)\n",
    "#         data = danniye(user)\n",
    "#         print(len(data))\n",
    "#         if len(data) > max:\n",
    "#             max = len(data)\n",
    "#             user_max = user\n",
    "#     print(user_max)\n",
    "    d = {}\n",
    "    for user in users: #внешне нужно прописать пользователей!!!\n",
    "        data = danniye(user, 'repos')\n",
    "        for i in data:\n",
    "            key = user\n",
    "            d.setdefault(key, [])\n",
    "            d[key].append(len(data))\n",
    "    max = (max(d.values()))     \n",
    "counting_repos()\n",
    "# немного тупенькая, вывод имени, если одинаковое количество рапозиториев                \n",
    "            "
   ]
  },
  {
   "cell_type": "code",
   "execution_count": 45,
   "metadata": {},
   "outputs": [
    {
     "name": "stdout",
     "output_type": "stream",
     "text": [
      "JavaScript : 13\n",
      "Jupyter Notebook : 20\n",
      "CSS : 1\n",
      "HTML : 12\n",
      "Python : 49\n",
      "None : 15\n",
      "C# : 1\n",
      "Shell : 1\n",
      "TeX : 1\n",
      "R : 1\n",
      "PHP : 1\n",
      "TypeScript : 1\n",
      "Erlang : 1\n",
      "C++ : 1\n",
      "Python\n"
     ]
    }
   ],
   "source": [
    "users = ['elmiram', 'maryszmary', 'lizaku', 'ancatmara', 'roctbb']\n",
    "def counting_lan():\n",
    "    spisok = []\n",
    "    for user in users:\n",
    "#         print(user)\n",
    "        data = danniye(user)\n",
    "        for i in data:\n",
    "            spisok.append(i['language'])    \n",
    "    counter = collections.Counter(spisok)\n",
    "    for key, value in counter.items():\n",
    "        print(key, ':', value)\n",
    "    max = sorted(counter, key=counter.get, reverse=True)\n",
    "    print(max[0])\n",
    "\n",
    "counting_lan()"
   ]
  },
  {
   "cell_type": "code",
   "execution_count": 49,
   "metadata": {},
   "outputs": [],
   "source": [
    "import json\n",
    "import urllib.request\n",
    "def get_followers(u):\n",
    "    token = '4a7672e60547c41c5b62c353d539ee0117f26191'\n",
    "    url = 'https://api.github.com/users/%s/followers?access_token=%s' %( u, token)\n",
    "\n",
    "    response = urllib.request.urlopen(url)  # посылаем серверу запрос и достаем ответ\n",
    "    text = response.read().decode('utf-8')  # читаем ответ в строку\n",
    "    data = json.loads(text) # превращаем джейсон-строку в объекты питона\n",
    "    return data\n",
    "\n",
    "    "
   ]
  },
  {
   "cell_type": "code",
   "execution_count": 63,
   "metadata": {},
   "outputs": [
    {
     "name": "stdout",
     "output_type": "stream",
     "text": [
      "elmiram\n",
      "29\n",
      "maryszmary\n",
      "17\n",
      "lizaku\n",
      "30\n",
      "ancatmara\n",
      "30\n",
      "roctbb\n",
      "30\n",
      "['roctbb']\n"
     ]
    }
   ],
   "source": [
    "users = ['elmiram', 'maryszmary', 'lizaku', 'ancatmara', 'roctbb']\n",
    "def followers_counter():\n",
    "    max = 0\n",
    "    maxs = []\n",
    "    for user in users:\n",
    "        print(user)\n",
    "        data = get_followers(user)\n",
    "        print(len(data))\n",
    "        if len(data) >= max:\n",
    "            max = len(data)\n",
    "            max_user = user\n",
    "#         if len(data) == max:\n",
    "#             maxs.append(user)\n",
    "    maxs.append(max_user)\n",
    "    print(maxs)\n",
    "\n",
    "    \n",
    "followers_counter()\n",
    "\n",
    "# тоже тупенькая"
   ]
  }
 ],
 "metadata": {
  "kernelspec": {
   "display_name": "Python 3",
   "language": "python",
   "name": "python3"
  },
  "language_info": {
   "codemirror_mode": {
    "name": "ipython",
    "version": 3
   },
   "file_extension": ".py",
   "mimetype": "text/x-python",
   "name": "python",
   "nbconvert_exporter": "python",
   "pygments_lexer": "ipython3",
   "version": "3.7.0"
  }
 },
 "nbformat": 4,
 "nbformat_minor": 2
}
